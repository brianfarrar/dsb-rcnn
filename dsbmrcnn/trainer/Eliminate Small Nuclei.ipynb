{
 "cells": [
  {
   "cell_type": "code",
   "execution_count": 1,
   "metadata": {},
   "outputs": [
    {
     "name": "stderr",
     "output_type": "stream",
     "text": [
      "/Users/farrar/py3/lib/python3.5/site-packages/h5py/__init__.py:36: FutureWarning: Conversion of the second argument of issubdtype from `float` to `np.floating` is deprecated. In future, it will be treated as `np.float64 == np.dtype(float).type`.\n",
      "  from ._conv import register_converters as _register_converters\n",
      "Using TensorFlow backend.\n"
     ]
    }
   ],
   "source": [
    "import numpy as np\n",
    "import cv2\n",
    "import random\n",
    "from matplotlib import pyplot as plt\n",
    "\n",
    "import dsbhelper as dsb\n",
    "import nuclei\n",
    "import model as modellib\n",
    "import dsbhelper"
   ]
  },
  {
   "cell_type": "code",
   "execution_count": 2,
   "metadata": {},
   "outputs": [],
   "source": [
    "TRAIN_DATA = 'stage1_train'"
   ]
  },
  {
   "cell_type": "code",
   "execution_count": 3,
   "metadata": {},
   "outputs": [],
   "source": [
    "# configure the trainer for inference\n",
    "config = nuclei.InferenceConfig()"
   ]
  },
  {
   "cell_type": "code",
   "execution_count": 4,
   "metadata": {},
   "outputs": [],
   "source": [
    "# set up the dataset and load validate data\n",
    "dataset_val = nuclei.NucleiDataset()\n",
    "dataset_val.load_data(TRAIN_DATA, mode='validate', filter_ids=dsb.validation_set)\n",
    "dataset_val.prepare()"
   ]
  },
  {
   "cell_type": "code",
   "execution_count": 5,
   "metadata": {},
   "outputs": [],
   "source": [
    "# load the model\n",
    "local_model_folder = 'model'\n",
    "model = modellib.MaskRCNN(mode=\"inference\", config=config, model_dir=local_model_folder)\n"
   ]
  },
  {
   "cell_type": "code",
   "execution_count": 6,
   "metadata": {},
   "outputs": [],
   "source": [
    "# load weights\n",
    "#model.load_weights('./model/mask_rcnn.h5', by_name=True)\n",
    "\n",
    "gcs_weights_fname = 'gs://mwpdsb/mask_rcnn/models/model_b12eb9/mask_rcnn.h5'\n",
    "model.load_weights(dsbhelper.get_pretrained_weights(pretrained='last',\n",
    "                                                    gcs_weights_fname=gcs_weights_fname), by_name=True)"
   ]
  },
  {
   "cell_type": "code",
   "execution_count": 7,
   "metadata": {},
   "outputs": [
    {
     "name": "stdout",
     "output_type": "stream",
     "text": [
      "92f31f591929a30e4309ab75185c96ff4314ce0a7ead2ed2c2171897ad1da0c7\n"
     ]
    }
   ],
   "source": [
    "# pick a specimen\n",
    "image_id = random.choice(dataset_val.image_ids)\n",
    "#image_id = 25\n",
    "image_data = dataset_val.get_info(image_id)\n",
    "print(image_data['specimen_id'])"
   ]
  },
  {
   "cell_type": "code",
   "execution_count": 8,
   "metadata": {},
   "outputs": [],
   "source": [
    "#for image_id in dataset_val.image_ids:\n",
    "#    image_data = dataset_val.get_info(image_id)\n",
    "#    print('{} -> {}'.format(image_id, image_data['specimen_id']))"
   ]
  },
  {
   "cell_type": "code",
   "execution_count": 9,
   "metadata": {},
   "outputs": [
    {
     "name": "stderr",
     "output_type": "stream",
     "text": [
      "/Users/farrar/py3/lib/python3.5/site-packages/scipy/ndimage/interpolation.py:616: UserWarning: From scipy 0.13.0, the output shape of zoom() is calculated with round() instead of int() - for these inputs the size of the returned array has changed.\n",
      "  \"the returned array has changed.\", UserWarning)\n"
     ]
    }
   ],
   "source": [
    "# get ground truth data\n",
    "original_image, _, \\\n",
    "class_ids, \\\n",
    "rois,\\\n",
    "gt_masks = modellib.load_image_gt(dataset_val, config, image_id, use_mini_mask=False)"
   ]
  },
  {
   "cell_type": "code",
   "execution_count": 10,
   "metadata": {},
   "outputs": [
    {
     "name": "stdout",
     "output_type": "stream",
     "text": [
      "10\n"
     ]
    }
   ],
   "source": [
    "print(gt_masks.shape[-1])"
   ]
  },
  {
   "cell_type": "code",
   "execution_count": 11,
   "metadata": {},
   "outputs": [
    {
     "name": "stdout",
     "output_type": "stream",
     "text": [
      "(512, 512, 10)\n"
     ]
    }
   ],
   "source": [
    "print(gt_masks.shape)\n",
    "nrows = int(gt_masks.shape[-1]/4) + 1\n",
    "fig, axarr = plt.subplots(nrows=nrows, ncols=4, figsize=(10,10))\n",
    "\n",
    "i = 0\n",
    "for row in range(nrows):\n",
    "    for col in range(4):\n",
    "        if i < gt_masks.shape[-1]:\n",
    "            axarr[row, col].imshow(gt_masks[:, :, i])\n",
    "        i += 1"
   ]
  },
  {
   "cell_type": "code",
   "execution_count": 12,
   "metadata": {},
   "outputs": [
    {
     "name": "stdout",
     "output_type": "stream",
     "text": [
      "Processing 1 images\n",
      "image                    shape: (512, 512, 3)         min:    0.00000  max:  232.00000\n",
      "molded_images            shape: (1, 512, 512, 3)      min:  -46.82168  max:  189.82254\n",
      "image_metas              shape: (1, 10)               min:    0.00000  max:  512.00000\n",
      "(512, 512, 10)\n",
      "(10, 4)\n",
      "(10,)\n",
      "(10,)\n"
     ]
    }
   ],
   "source": [
    "# run inference on the same image\n",
    "p = model.detect([original_image], verbose=1)\n",
    "prediction = p[0]\n",
    "print(prediction['masks'].shape)\n",
    "print(prediction['rois'].shape)\n",
    "print(prediction['scores'].shape)\n",
    "print(prediction['class_ids'].shape)"
   ]
  },
  {
   "cell_type": "code",
   "execution_count": 13,
   "metadata": {},
   "outputs": [
    {
     "name": "stdout",
     "output_type": "stream",
     "text": [
      "(512, 512, 10)\n"
     ]
    }
   ],
   "source": [
    "masks = prediction['masks']\n",
    "print(masks.shape)"
   ]
  },
  {
   "cell_type": "code",
   "execution_count": 14,
   "metadata": {},
   "outputs": [],
   "source": [
    "nrows = int(masks.shape[-1]/4) + 1\n",
    "if nrows > 4:\n",
    "    nrows = 4\n",
    "fig, axarr = plt.subplots(nrows=nrows, ncols=4, figsize=(10,10))\n",
    "\n",
    "i = 0\n",
    "for row in range(nrows):\n",
    "    for col in range(4):\n",
    "        if i < masks.shape[-1]:\n",
    "            axarr[row, col].imshow(masks[:, :, i])\n",
    "        i += 1"
   ]
  },
  {
   "cell_type": "code",
   "execution_count": 15,
   "metadata": {},
   "outputs": [
    {
     "name": "stdout",
     "output_type": "stream",
     "text": [
      "(512, 512, 10)\n",
      "(512, 512, 10)\n",
      "0.2669237195552985\n"
     ]
    }
   ],
   "source": [
    "print(gt_masks.shape)\n",
    "print(masks.shape)\n",
    "ap = dsb.compute_ap(gt_masks, masks)\n",
    "print(ap)"
   ]
  },
  {
   "cell_type": "code",
   "execution_count": 16,
   "metadata": {},
   "outputs": [
    {
     "name": "stdout",
     "output_type": "stream",
     "text": [
      "(512, 512, 10)\n"
     ]
    }
   ],
   "source": [
    "masks = prediction['masks']\n",
    "print(masks.shape)"
   ]
  },
  {
   "cell_type": "code",
   "execution_count": 17,
   "metadata": {},
   "outputs": [
    {
     "name": "stdout",
     "output_type": "stream",
     "text": [
      "masks[0] -> contour[0] - > area=909.5\n",
      "masks[1] -> contour[0] - > area=755.0\n",
      "masks[2] -> contour[0] - > area=175.0\n",
      "masks[3] -> contour[0] - > area=649.0\n",
      "masks[4] -> contour[0] - > area=876.5\n",
      "masks[5] -> contour[0] - > area=627.5\n",
      "masks[6] -> contour[0] - > area=252.0\n",
      "masks[7] -> contour[0] - > area=475.5\n",
      "masks[8] -> contour[0] - > area=221.0\n",
      "masks[9] -> contour[0] - > area=146.5\n"
     ]
    }
   ],
   "source": [
    "new_masks = []\n",
    "for i in range(masks.shape[-1]):\n",
    "    rgb = cv2.cvtColor(masks[:, :, i], cv2.COLOR_GRAY2RGB)\n",
    "    gray = cv2.cvtColor(rgb, cv2.COLOR_RGB2GRAY)\n",
    "    _, contours, _ = cv2.findContours(gray.astype(np.uint8), cv2.RETR_TREE, cv2.CHAIN_APPROX_SIMPLE)\n",
    "    for j, contour in enumerate(contours):\n",
    "        area = cv2.contourArea(contour)\n",
    "        print('masks[{}] -> contour[{}] - > area={}'.format(i, j, area))\n",
    "        if area >= 80:\n",
    "            new_masks.append(masks[:, :, i])"
   ]
  },
  {
   "cell_type": "code",
   "execution_count": 18,
   "metadata": {},
   "outputs": [
    {
     "name": "stdout",
     "output_type": "stream",
     "text": [
      "(10, 512, 512)\n"
     ]
    },
    {
     "data": {
      "text/plain": [
       "<matplotlib.image.AxesImage at 0x131bdfa20>"
      ]
     },
     "execution_count": 18,
     "metadata": {},
     "output_type": "execute_result"
    }
   ],
   "source": [
    "new_masks = np.asarray(new_masks)\n",
    "print(new_masks.shape)\n",
    "plt.imshow(new_masks[0])"
   ]
  },
  {
   "cell_type": "code",
   "execution_count": 19,
   "metadata": {},
   "outputs": [
    {
     "name": "stdout",
     "output_type": "stream",
     "text": [
      "(512, 512, 10)\n"
     ]
    },
    {
     "data": {
      "text/plain": [
       "<matplotlib.image.AxesImage at 0x131bdf3c8>"
      ]
     },
     "execution_count": 19,
     "metadata": {},
     "output_type": "execute_result"
    }
   ],
   "source": [
    "new_masks = np.moveaxis(new_masks, 0, 2)\n",
    "print(new_masks.shape)\n",
    "plt.imshow(new_masks[:, :, 0])"
   ]
  },
  {
   "cell_type": "code",
   "execution_count": 20,
   "metadata": {},
   "outputs": [
    {
     "name": "stdout",
     "output_type": "stream",
     "text": [
      "0.2669237195552985\n"
     ]
    }
   ],
   "source": [
    "new_ap = dsb.compute_ap(gt_masks, new_masks)\n",
    "print(new_ap)"
   ]
  },
  {
   "cell_type": "code",
   "execution_count": 24,
   "metadata": {},
   "outputs": [
    {
     "name": "stdout",
     "output_type": "stream",
     "text": [
      "(512, 512, 10)\n",
      "[]\n"
     ]
    }
   ],
   "source": [
    "print(prediction['masks'].shape)\n",
    "clean_masks, clean_rois, clean_scores, clean_class_ids = dsb.drop_small_masks(prediction['masks'], \n",
    "                                                                              prediction['rois'],\n",
    "                                                                              prediction['class_ids'],\n",
    "                                                                              prediction['scores'])\n",
    "print (clean_masks)\n",
    "#plt.imshow(clean_masks[:,:,0])"
   ]
  },
  {
   "cell_type": "code",
   "execution_count": null,
   "metadata": {},
   "outputs": [],
   "source": [
    "nrows = int(clean_masks.shape[-1]/4) + 1\n",
    "if nrows > 4:\n",
    "    nrows = 4\n",
    "fig, axarr = plt.subplots(nrows=nrows, ncols=4, figsize=(10,10))\n",
    "i = 0\n",
    "\n",
    "for row in range(nrows):\n",
    "    for col in range(4):\n",
    "        if i < clean_masks.shape[-1]:\n",
    "            axarr[row, col].imshow(clean_masks[:, : , i])\n",
    "        i += 1"
   ]
  },
  {
   "cell_type": "code",
   "execution_count": null,
   "metadata": {},
   "outputs": [],
   "source": [
    "new_ap = dsb.compute_ap(gt_masks, clean_masks)\n",
    "print (new_ap)"
   ]
  },
  {
   "cell_type": "code",
   "execution_count": null,
   "metadata": {},
   "outputs": [],
   "source": [
    "def open_masks(masks):\n",
    "    dilated_masks = np.zeros_like(masks)\n",
    "    kernel = cv2.getStructuringElement(cv2.MORPH_ELLIPSE,(9,9)) #0.694064\n",
    "\n",
    "    for i in range(masks.shape[2]):   \n",
    "        dilated_masks[:, :, i] = cv2.morphologyEx(masks[:, :, i], cv2.MORPH_OPEN, kernel)\n",
    "\n",
    "    return dilated_masks"
   ]
  },
  {
   "cell_type": "code",
   "execution_count": null,
   "metadata": {},
   "outputs": [],
   "source": [
    "#image_id = random.choice(dataset_val.image_ids)\n",
    "image_id = 25\n",
    "image_data = dataset_val.get_info(image_id)\n",
    "print(image_data['specimen_id'])"
   ]
  },
  {
   "cell_type": "code",
   "execution_count": null,
   "metadata": {},
   "outputs": [],
   "source": [
    "# get ground truth data\n",
    "original_image, _, \\\n",
    "class_ids, \\\n",
    "rois,\\\n",
    "gt_masks = modellib.load_image_gt(dataset_val, config, image_id, use_mini_mask=False)"
   ]
  },
  {
   "cell_type": "code",
   "execution_count": null,
   "metadata": {},
   "outputs": [],
   "source": [
    "# run inference on the same image\n",
    "p = model.detect([original_image], verbose=1)\n",
    "prediction = p[0]\n",
    "print(prediction['masks'].shape)\n",
    "print(prediction['rois'].shape)\n",
    "print(prediction['scores'].shape)\n",
    "print(prediction['class_ids'].shape)"
   ]
  },
  {
   "cell_type": "code",
   "execution_count": null,
   "metadata": {},
   "outputs": [],
   "source": [
    "masks = prediction['masks']\n",
    "dilated_masks = open_masks(masks)\n",
    "ap = dsb.compute_ap(gt_masks, masks)\n",
    "new_ap = dsb.compute_ap(gt_masks, dilated_masks)\n",
    "print ('was -> {}'.format(ap))\n",
    "print ('now -> {}'.format(new_ap))"
   ]
  },
  {
   "cell_type": "code",
   "execution_count": null,
   "metadata": {},
   "outputs": [],
   "source": [
    "for i, image_id in enumerate(dsb.validation_set):\n",
    "    image_id = i\n",
    "    image_data = dataset_val.get_info(image_id)\n",
    "    print(image_data['specimen_id'])\n",
    "    \n",
    "    # get ground truth data\n",
    "    original_image, _, \\\n",
    "    class_ids, \\\n",
    "    rois,\\\n",
    "    gt_masks = modellib.load_image_gt(dataset_val, config, image_id, use_mini_mask=False)\n",
    "    \n",
    "    # run inference on the same image\n",
    "    p = model.detect([original_image], verbose=0)\n",
    "    prediction = p[0]\n",
    "\n",
    "    masks = prediction['masks']\n",
    "    dilated_masks = open_masks(masks)\n",
    "    ap = dsb.compute_ap(gt_masks, masks)\n",
    "    new_ap = dsb.compute_ap(gt_masks, dilated_masks)\n",
    "    print ('was -> {}'.format(ap))\n",
    "    print ('now -> {}'.format(new_ap))"
   ]
  },
  {
   "cell_type": "code",
   "execution_count": null,
   "metadata": {},
   "outputs": [],
   "source": []
  }
 ],
 "metadata": {
  "kernelspec": {
   "display_name": "Python 3",
   "language": "python",
   "name": "python3"
  },
  "language_info": {
   "codemirror_mode": {
    "name": "ipython",
    "version": 3
   },
   "file_extension": ".py",
   "mimetype": "text/x-python",
   "name": "python",
   "nbconvert_exporter": "python",
   "pygments_lexer": "ipython3",
   "version": "3.5.3"
  }
 },
 "nbformat": 4,
 "nbformat_minor": 2
}
