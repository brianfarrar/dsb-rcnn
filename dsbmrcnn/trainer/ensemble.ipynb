{
 "cells": [
  {
   "cell_type": "code",
   "execution_count": 1,
   "metadata": {},
   "outputs": [
    {
     "name": "stderr",
     "output_type": "stream",
     "text": [
      "/Users/farrar/py3/lib/python3.5/site-packages/h5py/__init__.py:36: FutureWarning: Conversion of the second argument of issubdtype from `float` to `np.floating` is deprecated. In future, it will be treated as `np.float64 == np.dtype(float).type`.\n",
      "  from ._conv import register_converters as _register_converters\n",
      "Using TensorFlow backend.\n"
     ]
    }
   ],
   "source": [
    "import pandas as pd\n",
    "import dsbhelper"
   ]
  },
  {
   "cell_type": "code",
   "execution_count": 2,
   "metadata": {},
   "outputs": [],
   "source": [
    "model_4b4b04 = 'submission/submission-4b4b04.csv'\n",
    "model_b12eb9 = 'submission/submission-b12eb9.csv'\n",
    "kfold_csv = 'kfold_data.csv'\n",
    "TEST = 'stage1_test'"
   ]
  },
  {
   "cell_type": "code",
   "execution_count": 3,
   "metadata": {},
   "outputs": [
    {
     "name": "stdout",
     "output_type": "stream",
     "text": [
      "                                             ImageId  \\\n",
      "0  b83d1d77935b6cfd44105b54600ffc4b6bd82de57dec65...   \n",
      "1  b83d1d77935b6cfd44105b54600ffc4b6bd82de57dec65...   \n",
      "2  b83d1d77935b6cfd44105b54600ffc4b6bd82de57dec65...   \n",
      "3  b83d1d77935b6cfd44105b54600ffc4b6bd82de57dec65...   \n",
      "4  b83d1d77935b6cfd44105b54600ffc4b6bd82de57dec65...   \n",
      "\n",
      "                                       EncodedPixels  \n",
      "0  20414 4 20937 6 21461 7 21985 7 22508 9 23032 ...  \n",
      "1  69943 5 70466 8 70990 9 71513 11 72036 13 7255...  \n",
      "2  33419 6 33942 8 34465 10 34988 11 35511 12 360...  \n",
      "3  116789 6 117312 8 117835 10 118358 12 118881 1...  \n",
      "4  27890 2 28412 7 28935 9 29458 11 29982 12 3050...  \n"
     ]
    }
   ],
   "source": [
    "df_model_4b4b04 = pd.read_csv(model_4b4b04)\n",
    "print(df_model_4b4b04.head(5))"
   ]
  },
  {
   "cell_type": "code",
   "execution_count": 4,
   "metadata": {},
   "outputs": [
    {
     "name": "stdout",
     "output_type": "stream",
     "text": [
      "                                             ImageId  \\\n",
      "0  b83d1d77935b6cfd44105b54600ffc4b6bd82de57dec65...   \n",
      "1  b83d1d77935b6cfd44105b54600ffc4b6bd82de57dec65...   \n",
      "2  b83d1d77935b6cfd44105b54600ffc4b6bd82de57dec65...   \n",
      "3  b83d1d77935b6cfd44105b54600ffc4b6bd82de57dec65...   \n",
      "4  b83d1d77935b6cfd44105b54600ffc4b6bd82de57dec65...   \n",
      "\n",
      "                                       EncodedPixels  \n",
      "0  2593 2 2597 1 3116 7 3134 1 3640 8 3657 2 4165...  \n",
      "1  56180 7 56703 10 57226 12 57749 14 58272 15 58...  \n",
      "2  157338 6 157861 8 158384 10 158908 11 159431 1...  \n",
      "3  131836 3 132358 7 132881 9 133404 10 133928 11...  \n",
      "4  28415 1 28937 5 29460 8 29983 10 30506 12 3103...  \n"
     ]
    }
   ],
   "source": [
    "df_model_b12eb9 = pd.read_csv(model_b12eb9)\n",
    "print(df_model_b12eb9.head(5))"
   ]
  },
  {
   "cell_type": "code",
   "execution_count": 5,
   "metadata": {},
   "outputs": [
    {
     "name": "stdout",
     "output_type": "stream",
     "text": [
      "                                            filename foreground background  \\\n",
      "0  d32ea6d318626ca14a967d0c1ad3218aebfe636624a8d1...      white      black   \n",
      "1  4596961c789d3b41916492918797724fe75128239fefc5...      white      black   \n",
      "2  b6edad733399c83c8eb7a59c0d37b54e10cc0d59894e39...      white      black   \n",
      "3  831218e6a1a54b23d4be56c5799854e7eb978811b89215...      white      black   \n",
      "4  b1e3aeb0c56261c17eb71c747d116057b8da7e8c8a6845...      white      black   \n",
      "\n",
      "                                         specimen_id train_or_test  \\\n",
      "0  d32ea6d318626ca14a967d0c1ad3218aebfe636624a8d1...         train   \n",
      "1  4596961c789d3b41916492918797724fe75128239fefc5...         train   \n",
      "2  b6edad733399c83c8eb7a59c0d37b54e10cc0d59894e39...         train   \n",
      "3  831218e6a1a54b23d4be56c5799854e7eb978811b89215...         train   \n",
      "4  b1e3aeb0c56261c17eb71c747d116057b8da7e8c8a6845...         train   \n",
      "\n",
      "   nuclei_count  area_min  area_max    area_mean  image_height  image_width  \\\n",
      "0            10      17.0     308.5   135.250000           256          256   \n",
      "1           133      35.0    1183.5   588.537594           520          696   \n",
      "2            25      47.0    4119.5  1175.160000           360          360   \n",
      "3            20      14.0    2900.0  1427.100000           360          360   \n",
      "4            22      13.5     243.0    99.000000           256          256   \n",
      "\n",
      "   image_mean_intensity  image_violet_intensity  \n",
      "0              5.940491                       0  \n",
      "1              8.945875                       0  \n",
      "2             11.378356                       0  \n",
      "3              8.676682                       0  \n",
      "4              5.048172                       0  \n"
     ]
    }
   ],
   "source": [
    "df_meta_data = pd.read_csv(kfold_csv)\n",
    "print(df_meta_data.head(5))"
   ]
  },
  {
   "cell_type": "code",
   "execution_count": 6,
   "metadata": {},
   "outputs": [
    {
     "name": "stdout",
     "output_type": "stream",
     "text": [
      "0114f484a16c152baa2d82fdd43740880a762c93f436c8988ac461c5c9dbe7d5\n"
     ]
    }
   ],
   "source": [
    "specimen_ids = dsbhelper.get_specimen_ids(TEST)\n",
    "print(specimen_ids[0])"
   ]
  },
  {
   "cell_type": "code",
   "execution_count": 7,
   "metadata": {},
   "outputs": [
    {
     "name": "stdout",
     "output_type": "stream",
     "text": [
      "Specimen id: 0114f, used 4b4b04\n",
      "Specimen id: 0114f, used 4b4b04\n",
      "Specimen id: 0999d, used 4b4b04\n",
      "Specimen id: 0999d, used 4b4b04\n",
      "Specimen id: 0a849, used 4b4b04\n",
      "Specimen id: 0a849, used 4b4b04\n",
      "Specimen id: 0e132, used 4b4b04\n",
      "Specimen id: 0e132, used 4b4b04\n",
      "Specimen id: 0ed35, used 4b4b04\n",
      "Specimen id: 0ed35, used 4b4b04\n",
      "Specimen id: 0f1f8, used 4b4b04\n",
      "Specimen id: 0f1f8, used b12eb9\n",
      "Specimen id: 1747f, used 4b4b04\n",
      "Specimen id: 1747f, used 4b4b04\n",
      "Specimen id: 17b9b, used 4b4b04\n",
      "Specimen id: 17b9b, used b12eb9\n",
      "Specimen id: 1879f, used 4b4b04\n",
      "Specimen id: 1879f, used 4b4b04\n",
      "Specimen id: 191b2, used 4b4b04\n",
      "Specimen id: 191b2, used 4b4b04\n",
      "Specimen id: 1962d, used 4b4b04\n",
      "Specimen id: 1962d, used 4b4b04\n",
      "Specimen id: 1cdbf, used 4b4b04\n",
      "Specimen id: 1cdbf, used 4b4b04\n",
      "Specimen id: 1d9ea, used 4b4b04\n",
      "Specimen id: 1d9ea, used b12eb9\n",
      "Specimen id: 1ef68, used 4b4b04\n",
      "Specimen id: 1ef68, used 4b4b04\n",
      "Specimen id: 259b3, used 4b4b04\n",
      "Specimen id: 259b3, used b12eb9\n",
      "Specimen id: 29568, used 4b4b04\n",
      "Specimen id: 29568, used 4b4b04\n",
      "Specimen id: 31f1f, used 4b4b04\n",
      "Specimen id: 31f1f, used 4b4b04\n",
      "Specimen id: 336d3, used 4b4b04\n",
      "Specimen id: 336d3, used 4b4b04\n",
      "Specimen id: 38f5c, used 4b4b04\n",
      "Specimen id: 38f5c, used 4b4b04\n",
      "Specimen id: 3c4c6, used 4b4b04\n",
      "Specimen id: 3c4c6, used b12eb9\n",
      "Specimen id: 432f3, used 4b4b04\n",
      "Specimen id: 432f3, used 4b4b04\n",
      "Specimen id: 43a71, used 4b4b04\n",
      "Specimen id: 43a71, used 4b4b04\n",
      "Specimen id: 44afa, used 4b4b04\n",
      "Specimen id: 44afa, used b12eb9\n",
      "Specimen id: 4727d, used 4b4b04\n",
      "Specimen id: 4727d, used 4b4b04\n",
      "Specimen id: 472b1, used 4b4b04\n",
      "Specimen id: 472b1, used b12eb9\n",
      "Specimen id: 4be73, used 4b4b04\n",
      "Specimen id: 4be73, used 4b4b04\n",
      "Specimen id: 4f949, used 4b4b04\n",
      "Specimen id: 4f949, used 4b4b04\n",
      "Specimen id: 505bc, used 4b4b04\n",
      "Specimen id: 505bc, used 4b4b04\n",
      "Specimen id: 519dc, used 4b4b04\n",
      "Specimen id: 519dc, used 4b4b04\n",
      "Specimen id: 51c70, used 4b4b04\n",
      "Specimen id: 51c70, used 4b4b04\n",
      "Specimen id: 52b26, used 4b4b04\n",
      "Specimen id: 52b26, used 4b4b04\n",
      "Specimen id: 53df5, used 4b4b04\n",
      "Specimen id: 53df5, used 4b4b04\n",
      "Specimen id: 55045, used 4b4b04\n",
      "Specimen id: 55045, used 4b4b04\n",
      "Specimen id: 5cee6, used 4b4b04\n",
      "Specimen id: 5cee6, used 4b4b04\n",
      "Specimen id: 648c8, used 4b4b04\n",
      "Specimen id: 648c8, used 4b4b04\n",
      "Specimen id: 697a0, used 4b4b04\n",
      "Specimen id: 697a0, used 4b4b04\n",
      "Specimen id: 699f2, used 4b4b04\n",
      "Specimen id: 699f2, used 4b4b04\n",
      "Specimen id: 78a98, used 4b4b04\n",
      "Specimen id: 78a98, used 4b4b04\n",
      "Specimen id: 7bdb6, used 4b4b04\n",
      "Specimen id: 7bdb6, used 4b4b04\n",
      "Specimen id: 7f4cb, used 4b4b04\n",
      "Specimen id: 7f4cb, used 4b4b04\n",
      "Specimen id: 8922a, used 4b4b04\n",
      "Specimen id: 8922a, used 4b4b04\n",
      "Specimen id: 8b598, used 4b4b04\n",
      "Specimen id: 8b598, used 4b4b04\n",
      "Specimen id: 912a6, used 4b4b04\n",
      "Specimen id: 912a6, used 4b4b04\n",
      "Specimen id: 9ab2d, used 4b4b04\n",
      "Specimen id: 9ab2d, used 4b4b04\n",
      "Specimen id: 9f17a, used 4b4b04\n",
      "Specimen id: 9f17a, used b12eb9\n",
      "Specimen id: a4816, used 4b4b04\n",
      "Specimen id: a4816, used 4b4b04\n",
      "Specimen id: a984e, used 4b4b04\n",
      "Specimen id: a984e, used 4b4b04\n",
      "Specimen id: ab298, used 4b4b04\n",
      "Specimen id: ab298, used 4b4b04\n",
      "Specimen id: ade08, used 4b4b04\n",
      "Specimen id: ade08, used 4b4b04\n",
      "Specimen id: b83d1, used 4b4b04\n",
      "Specimen id: b83d1, used b12eb9\n",
      "Specimen id: bdc78, used 4b4b04\n",
      "Specimen id: bdc78, used 4b4b04\n",
      "Specimen id: c8e79, used 4b4b04\n",
      "Specimen id: c8e79, used b12eb9\n",
      "Specimen id: ca200, used 4b4b04\n",
      "Specimen id: ca200, used 4b4b04\n",
      "Specimen id: d616d, used 4b4b04\n",
      "Specimen id: d616d, used 4b4b04\n",
      "Specimen id: d6eb7, used 4b4b04\n",
      "Specimen id: d6eb7, used 4b4b04\n",
      "Specimen id: d8d4b, used 4b4b04\n",
      "Specimen id: d8d4b, used 4b4b04\n",
      "Specimen id: da6c5, used 4b4b04\n",
      "Specimen id: da6c5, used b12eb9\n",
      "Specimen id: dab46, used 4b4b04\n",
      "Specimen id: dab46, used 4b4b04\n",
      "Specimen id: df400, used 4b4b04\n",
      "Specimen id: df400, used 4b4b04\n",
      "Specimen id: e17b7, used 4b4b04\n",
      "Specimen id: e17b7, used 4b4b04\n",
      "Specimen id: eea70, used 4b4b04\n",
      "Specimen id: eea70, used 4b4b04\n",
      "Specimen id: f0d0a, used 4b4b04\n",
      "Specimen id: f0d0a, used 4b4b04\n",
      "Specimen id: f5eff, used 4b4b04\n",
      "Specimen id: f5eff, used b12eb9\n",
      "Specimen id: fac50, used 4b4b04\n",
      "Specimen id: fac50, used 4b4b04\n",
      "Specimen id: fe9ad, used 4b4b04\n",
      "Specimen id: fe9ad, used 4b4b04\n",
      "                                                ImageId  \\\n",
      "2537  0114f484a16c152baa2d82fdd43740880a762c93f436c8...   \n",
      "2538  0114f484a16c152baa2d82fdd43740880a762c93f436c8...   \n",
      "2539  0114f484a16c152baa2d82fdd43740880a762c93f436c8...   \n",
      "2540  0114f484a16c152baa2d82fdd43740880a762c93f436c8...   \n",
      "2541  0114f484a16c152baa2d82fdd43740880a762c93f436c8...   \n",
      "\n",
      "                                          EncodedPixels  \n",
      "2537  50841 5 51095 8 51350 10 51605 11 51860 13 521...  \n",
      "2538  50023 7 50278 10 50532 13 50787 15 51042 16 51...  \n",
      "2539  44849 7 45103 10 45358 12 45613 14 45868 15 46...  \n",
      "2540  10637 3 10890 8 11145 10 11400 12 11655 13 119...  \n",
      "2541  31375 7 31628 12 31883 14 32138 16 32393 17 32...  \n"
     ]
    }
   ],
   "source": [
    "df_ensemble = pd.DataFrame()\n",
    "\n",
    "for specimen_id in specimen_ids:\n",
    "    \n",
    "    print('Specimen id: {}, used 4b4b04'.format(specimen_id[0:5]))\n",
    "    \n",
    "    if df_meta_data[df_meta_data['specimen_id'] == specimen_id]['foreground'].values[0] in ['white', 'black']:\n",
    "        print('Specimen id: {}, used 4b4b04'.format(specimen_id[0:5]))\n",
    "        df = df_model_4b4b04.loc[df_model_4b4b04['ImageId'] == specimen_id]\n",
    "        df_ensemble = df_ensemble.append(df)\n",
    "\n",
    "    elif df_meta_data[df_meta_data['specimen_id'] == specimen_id]['foreground'].values[0] in ['purple', 'yellow']:\n",
    "        print('Specimen id: {}, used b12eb9'.format(specimen_id[0:5]))\n",
    "        df = df_model_b12eb9.loc[df_model_b12eb9['ImageId'] == specimen_id]\n",
    "        df_ensemble = df_ensemble.append(df)\n",
    "\n",
    "print (df_ensemble.head(5))"
   ]
  },
  {
   "cell_type": "code",
   "execution_count": 8,
   "metadata": {},
   "outputs": [],
   "source": [
    "df_ensemble.to_csv('submission/ensemble.csv', index=False)"
   ]
  },
  {
   "cell_type": "code",
   "execution_count": 9,
   "metadata": {},
   "outputs": [
    {
     "name": "stdout",
     "output_type": "stream",
     "text": [
      "709\n"
     ]
    }
   ],
   "source": [
    "specimen_ids = dsbhelper.get_specimen_ids(TEST, mode='train_list')\n",
    "print(len(specimen_ids))"
   ]
  },
  {
   "cell_type": "code",
   "execution_count": 10,
   "metadata": {},
   "outputs": [
    {
     "name": "stdout",
     "output_type": "stream",
     "text": [
      "93c5638e7e6433b5c9cc87c152bcbe28873d2f9d6a392cca0642520807542a77\n"
     ]
    }
   ],
   "source": [
    "print(specimen_ids[0])"
   ]
  },
  {
   "cell_type": "code",
   "execution_count": 11,
   "metadata": {},
   "outputs": [
    {
     "name": "stdout",
     "output_type": "stream",
     "text": [
      "65\n"
     ]
    }
   ],
   "source": [
    "specimen_ids = dsbhelper.get_specimen_ids(TEST)\n",
    "print(len(specimen_ids))"
   ]
  },
  {
   "cell_type": "code",
   "execution_count": null,
   "metadata": {},
   "outputs": [],
   "source": []
  }
 ],
 "metadata": {
  "kernelspec": {
   "display_name": "Python 3",
   "language": "python",
   "name": "python3"
  },
  "language_info": {
   "codemirror_mode": {
    "name": "ipython",
    "version": 3
   },
   "file_extension": ".py",
   "mimetype": "text/x-python",
   "name": "python",
   "nbconvert_exporter": "python",
   "pygments_lexer": "ipython3",
   "version": "3.5.3"
  }
 },
 "nbformat": 4,
 "nbformat_minor": 2
}
