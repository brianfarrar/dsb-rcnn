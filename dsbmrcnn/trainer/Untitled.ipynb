{
 "cells": [
  {
   "cell_type": "code",
   "execution_count": 5,
   "metadata": {},
   "outputs": [],
   "source": [
    "import dsbhelper\n",
    "from matplotlib import pyplot as plt"
   ]
  },
  {
   "cell_type": "code",
   "execution_count": 6,
   "metadata": {},
   "outputs": [],
   "source": [
    "TRAIN_DATA = 'stage1_train'"
   ]
  },
  {
   "cell_type": "code",
   "execution_count": 7,
   "metadata": {},
   "outputs": [
    {
     "name": "stdout",
     "output_type": "stream",
     "text": [
      "00071198d059ba7f5914a526d124d28e6d010c92466da21d4a04cd5413362552\n"
     ]
    }
   ],
   "source": [
    "specimen_ids = dsbhelper.get_specimen_ids(TRAIN_DATA)\n",
    "print (specimen_ids[0])"
   ]
  },
  {
   "cell_type": "code",
   "execution_count": 8,
   "metadata": {},
   "outputs": [
    {
     "name": "stdout",
     "output_type": "stream",
     "text": [
      "['07a9bf1d7594af2763c86e93f05d22c4d5181353c6d3ab30a345b908ffe5aadc.png', '0e548d0af63ab451616f082eb56bde13eb71f73dfda92a03fbe88ad42ebb4881.png', '0ea1f9e30124e4aef1407af239ff42fd6f5753c09b4c5cac5d08023c328d7f05.png', '0f5a3252d05ecdf453bdd5e6ad5322c454d8ec2d13ef0f0bf45a6f6db45b5639.png', '2c47735510ef91a11fde42b317829cee5fc04d05a797b90008803d7151951d58.png', '4afa39f2a05f9884a5ff030d678c6142379f99a5baaf4f1ba7835a639cb50751.png', '4bc58dbdefb2777392361d8b2d686b1cc14ca310e009b79763af46e853e6c6ac.png', '4e3b49fb14877b63704881a923365b68c1def111c58f23c66daa49fef4b632bf.png', '5522143fa8723b66b1e0b25331047e6ae6eeec664f7c8abeba687e0de0f9060a.png', '58656859fb9c13741eda9bc753c3415b78d1135ee852a194944dee88ab70acf4.png', '6442251746caac8fc255e6a22b41282ffcfabebadbd240ee0b604808ff9e3383.png', '7ff04129f8b6d9aaf47e062eadce8b3fcff8b4a29ec5ad92bca926ac2b7263d2.png', '8bbec3052bcec900455e8c7728d03facb46c880334bcc4fb0d1d066dd6c7c5d2.png', '9576fe25f4a510f12eecbabfa2e0237b98d8c2622b9e13b9a960e2afe6da844e.png', '95deddb72b845b1a1f81a282c86e666045da98344eaa2763d67e2ab80bc2e5c3.png', 'a1b0cdb21f341af17d86f23596df4f02a6b9c4e0d59a7f74aaf28b9e408a4e4c.png', 'aa154c70e0d82669e9e492309bd00536d2b0f6eeec1210014bbafbfc554b377c.png', 'acba6646e8250aab8865cd652dfaa7c56f643267ea2e774aee97dc2342d879d6.png', 'ae00049dc36a1e5ffafcdeadb44b18a9cd6dfd459ee302ab041337529bd41cf2.png', 'af4d6ff17fa7b41de146402e12b3bab1f1fe3c1e6f37da81a54e002168b1e7dd.png', 'b0cbc2c553f9c4ac2191395236f776143fb3a28fb77b81d3d258a2f45361ca89.png', 'b6fc3b5403de8f393ca368553566eaf03d5c07148539bc6141a486f1d185f677.png', 'be98de8a7ba7d5d733b1212ae957f37b5b69d0bf350b9a5a25ba4346c29e49f7.png', 'cb53899ef711bce04b209829c61958abdb50aa759f3f896eb7ed868021c22fb4.png', 'd5024b272cb39f9ef2753e2f31344f42dd17c0e2311c4927946bc5008d295d2e.png', 'f6eee5c69f54807923de1ceb1097fc3aa902a6b20d846f111e806988a4269ed0.png', 'ffae764df84788e8047c0942f55676c9663209f65da943814c6b3aca78d8e7f7.png']\n"
     ]
    }
   ],
   "source": [
    "mask_list = dsbhelper.get_specimen_mask_list(TRAIN_DATA, specimen_ids[0])\n",
    "print(mask_list)"
   ]
  },
  {
   "cell_type": "code",
   "execution_count": 9,
   "metadata": {},
   "outputs": [
    {
     "data": {
      "text/plain": [
       "<matplotlib.image.AxesImage at 0x11c8fd860>"
      ]
     },
     "execution_count": 9,
     "metadata": {},
     "output_type": "execute_result"
    },
    {
     "data": {
      "image/png": "[encoded data removed]",
      "text/plain": [
       "<matplotlib.figure.Figure at 0x11c8987f0>"
      ]
     },
     "metadata": {},
     "output_type": "display_data"
    }
   ],
   "source": [
    "masks = dsbhelper.get_specimen_masks(TRAIN_DATA, specimen_ids[0])\n",
    "plt.imshow(masks[0])"
   ]
  },
  {
   "cell_type": "code",
   "execution_count": 10,
   "metadata": {},
   "outputs": [
    {
     "data": {
      "text/plain": [
       "<matplotlib.image.AxesImage at 0x11c9718d0>"
      ]
     },
     "execution_count": 10,
     "metadata": {},
     "output_type": "execute_result"
    },
    {
     "data": {
      "image/png": "[encoded data removed]",
      "text/plain": [
       "<matplotlib.figure.Figure at 0x11c8c54e0>"
      ]
     },
     "metadata": {},
     "output_type": "display_data"
    }
   ],
   "source": [
    "amask = dsbhelper.get_mask_image(TRAIN_DATA, specimen_ids[0], mask_list[0])\n",
    "plt.imshow(amask)"
   ]
  },
  {
   "cell_type": "code",
   "execution_count": null,
   "metadata": {},
   "outputs": [],
   "source": []
  }
 ],
 "metadata": {
  "kernelspec": {
   "display_name": "Python 3",
   "language": "python",
   "name": "python3"
  },
  "language_info": {
   "codemirror_mode": {
    "name": "ipython",
    "version": 3
   },
   "file_extension": ".py",
   "mimetype": "text/x-python",
   "name": "python",
   "nbconvert_exporter": "python",
   "pygments_lexer": "ipython3",
   "version": "3.5.3"
  }
 },
 "nbformat": 4,
 "nbformat_minor": 2
}
