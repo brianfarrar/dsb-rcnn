{
 "cells": [
  {
   "cell_type": "markdown",
   "metadata": {},
   "source": [
    "<H1>Ensembling Experiment</H1>"
   ]
  },
  {
   "cell_type": "code",
   "execution_count": 58,
   "metadata": {},
   "outputs": [],
   "source": [
    "import numpy as np\n",
    "import cv2\n",
    "import random\n",
    "from matplotlib import pyplot as plt\n",
    "\n",
    "import dsbhelper as dsb\n",
    "import nuclei\n",
    "import model as modellib\n",
    "import dsbhelper"
   ]
  },
  {
   "cell_type": "code",
   "execution_count": 59,
   "metadata": {},
   "outputs": [],
   "source": [
    "TRAIN_DATA = 'stage1_train'\n",
    "gcs_model_weights = 'trained_models/model_b12eb9/mask_rcnn.h5'\n",
    "ws_model_weights = 'trained_models/model_39743d/mask_rcnn.h5'\n",
    "rw_model_weights = 'trained_models/model_70ffa5/mask_rcnn.h5'\n",
    "ag_model_weights = 'trained_models/model_c4f686/mask_rcnn.h5'\n",
    "am_model_weights = 'trained_models/model_3f138a/mask_rcnn.h5'"
   ]
  },
  {
   "cell_type": "code",
   "execution_count": 60,
   "metadata": {},
   "outputs": [],
   "source": [
    "# configure the trainer for inference\n",
    "config = nuclei.InferenceConfig()\n"
   ]
  },
  {
   "cell_type": "code",
   "execution_count": 61,
   "metadata": {},
   "outputs": [],
   "source": [
    "# set up the dataset and load validate data\n",
    "dataset_val = nuclei.NucleiDataset()\n",
    "dataset_val.load_data(TRAIN_DATA, mode='validate', filter_ids=dsb.validation_set)\n",
    "dataset_val.prepare()\n"
   ]
  },
  {
   "cell_type": "code",
   "execution_count": 62,
   "metadata": {},
   "outputs": [],
   "source": [
    "# load the model\n",
    "local_model_folder = 'model'\n",
    "model = modellib.MaskRCNN(mode=\"inference\", config=config, model_dir=local_model_folder)\n"
   ]
  },
  {
   "cell_type": "code",
   "execution_count": 63,
   "metadata": {},
   "outputs": [
    {
     "name": "stdout",
     "output_type": "stream",
     "text": [
      "0 -> 003cee89357d9fe13516167fd67b609a164651b21934585648c740d2c3d86dc1\n",
      "1 -> 00ae65c1c6631ae6f2be1a449902976e6eb8483bf6b0740d00530220832c6d3e\n",
      "2 -> 01d44a26f6680c42ba94c9bc6339228579a95d0e2695b149b7cc0c9592b21baf\n",
      "3 -> 04acab7636c4cf61d288a5962f15fa456b7bde31a021e5deedfbf51288e4001e\n",
      "4 -> 0532c64c2fd0c4d3188cc751cdfd566b1cfba3d269358717295bab1504c7c275\n",
      "5 -> 08ae2741df2f5ac815c0f272a8c532b5167ee853be9b939b9b8b7fa93560868a\n",
      "6 -> 091944f1d2611c916b98c020bd066667e33f4639159b2a92407fe5a40788856d\n",
      "7 -> 0a7d30b252359a10fd298b638b90cb9ada3acced4e0c0e5a3692013f432ee4e9\n",
      "8 -> 0bda515e370294ed94efd36bd53782288acacb040c171df2ed97fd691fc9d8fe\n",
      "9 -> 0bf33d3db4282d918ec3da7112d0bf0427d4eafe74b3ee0bb419770eefe8d7d6\n",
      "10 -> 0d2bf916cc8de90d02f4cd4c23ea79b227dbc45d845b4124ffea380c92d34c8c\n",
      "11 -> 0ddd8deaf1696db68b00c600601c6a74a0502caaf274222c8367bdc31458ae7e\n",
      "12 -> 0e4c2e2780de7ec4312f0efcd86b07c3738d21df30bb4643659962b4da5505a3\n",
      "13 -> 1023509cf8d4c155467800f89508690be9513431992f470594281cd37dbd020d\n",
      "14 -> 12f89395ad5d21491ab9cec137e247652451d283064773507d7dc362243c5b8e\n",
      "15 -> 14cc1424c59808274e123db51292e9dbb5b037ef3e7c767a8c45c9ac733b91bf\n",
      "16 -> 15039b3acccc4257a1a442646a89b6e596b5eb4531637e6d8fa1c43203722c99\n",
      "17 -> 150b0ffa318c87b31d78af0e87d60390dbcd84b5f228a8c1fb3225cbe5df3e3f\n",
      "18 -> 1a75de9e11303142864efed27e69ea1960dbd82ca910de221a777ed2caf35a6b\n",
      "19 -> 1b44d22643830cd4f23c9deadb0bd499fb392fb2cd9526d81547d93077d983df\n",
      "20 -> 1c2f9e121fc207efff79d46390df1a740566b683ff56a96d8cabe830a398dd2e\n",
      "21 -> 1e488c42eb1a54a3e8412b1f12cde530f950f238d71078f2ede6a85a02168e1f\n",
      "22 -> 1ec74a26e772966df764e063f1391109a60d803cff9d15680093641ed691bf72\n",
      "23 -> 2255d5aba044256bb92f6b7cbed0fca46d972c7b6b1a59dcbe7f682c5777d074\n",
      "24 -> 2cfa61bef6542dd359717e9131ce6f076c415a3bd7f48cb093b0d7f3b2ca785d\n",
      "25 -> 2e172afb1f43b359f1f0208da9386aefe97c0c1afe202abfe6ec09cdca820990\n",
      "26 -> 305a8baaf726d7c9e695bff31d3a6a61445999a4732f0a3e6174dc9dcbe43931\n",
      "27 -> 30f65741053db713b3f328d31d3234b6fedbe31df65c1a8ea29be28146cab789\n",
      "28 -> 356d9903d16074f152fe8f2f0ef555d9959c53264228eae7373cad5cf35d4e85\n",
      "29 -> 3582166ee20755856adf4882a8bfacb616fce4247911605a109c4862de421bcd\n",
      "30 -> 3a22fe593d9606d4f137461dd6802fd3918f9fbf36f4a65292be69670365e2ca\n",
      "31 -> 3bf7873f11823f4b64422f49c8248dd95c0d01f9ae9075ae3d233bbb21a3d875\n",
      "32 -> 442c4eb0185698fe7d148c108a46f74abd399aecda2f4f22981a1671cd95dd7d\n",
      "33 -> 449a9c32e53a37c8a86e01c199155c8da3958b631088e10f6fe43c2119defe51\n",
      "34 -> 44ab6a09eedee848b072ea3acd0f4e781f9c43b8d4e3d62598e1024584bf0b01\n",
      "35 -> 4596961c789d3b41916492918797724fe75128239fefc516c3ee75322b7926f0\n",
      "36 -> 45cc00f2ef95da6698bf590663e319d7c0ed4fb99d42dd3cf4060887da74fb81\n",
      "37 -> 4948e3dfe0483c2198b9616612071ead5474dffd223071cf0a567aea9aca0b9e\n",
      "38 -> 4b274461c6d001a7a9aeaf5952b40ac4934d1be96b9c176edfd628a8f77e6df2\n",
      "39 -> 4c032609d377bd980e01f888e0b298600bf8af0e33c4271a1f3aaf76964dce06\n",
      "40 -> 4cbd6c37f3a55a538d759d440344c287cac66260d3047a83f429e63e7a0f7f20\n",
      "41 -> 4d09672bcf5a2661eea00891bbb8191225a06619a849aece37ad10d9dedbde3e\n",
      "42 -> 4dbbb275960ab9e4ec2c66c8d3000f7c70c8dce5112df591b95db84e25efa6e9\n",
      "43 -> 4ee5850b63549794eb3ecd3d5f5673164ac16936e36ecc3700da886e3b616149\n",
      "44 -> 514ccfc78cb55988a238d3ac9dc83460aa88382c95d56bcc0559962d9fe481ef\n",
      "45 -> 538b7673d507014d83af238876e03617396b70fe27f525f8205a4a96900fbb8e\n",
      "46 -> 5419302571113e9aa74c7c0a9575333ca539b871a16c86ee92b35170b4ddc52e\n",
      "47 -> 5488e8df5440ee5161fdfae3aeccd2ee396636430065c90e3f1f73870a975991\n",
      "48 -> 55f98f43c152aa0dc8bea513f8ba558cc57494b81ae4ee816977816e79629c50\n",
      "49 -> 5b0bde771bc67c505d1b59405cbcad0a2766ec3ee4e35852e959552c1b454233\n",
      "50 -> 5d21acedb3015c1208b31778561f8b1079cca7487399300390c3947f691e3974\n",
      "51 -> 5e263abff938acba1c0cff698261c7c00c23d7376e3ceacc3d5d4a655216b16d\n",
      "52 -> 619429303c1af7540916509fe7900cf483eba4391b06aac87ff7f66ca1ab6483\n",
      "53 -> 63d981a107091e1e3059102ce08870744dde173afe324bc2274c17d42f661778\n",
      "54 -> 64eeef16fdc4e26523d27bfa71a1d38d2cb2e4fa116c0d0ea56b1322f806f0b9\n",
      "55 -> 65c8527c16a016191118e8adc3d307fe3a73d37cbe05597a95aebd75daf8d051\n",
      "56 -> 6aa7dd0c88bec4f96cdd497f9c37779733033d9ec6513307461302d36bd32ac7\n",
      "57 -> 6bd330234b763b77796d4804de8e224881c0fc8dd02650fa708b2edfd8c7461f\n",
      "58 -> 6eefe1f0d9c2d2c2380db3ecd2113a566ace7dfc917687bb5033b4af5b8293aa\n",
      "59 -> 6fb82031f7fc5f4fa6e0bc2ef3421db19036b5c2cdd2725009ab465d66d61d72\n",
      "60 -> 709e094e39629a9ca21e187f007b331074694e443db40289447c1111f7e267e7\n",
      "61 -> 724b6b7044522f6d5ea35b55f8fa71d0a45a28687be2b7cac3149943ab816eec\n",
      "62 -> 75120baa6abcbfe750a4eb223b8c10ae6bc3bebdda7b00d9a78bc2472fa28625\n",
      "63 -> 7773ac91af61ed041701b7c3b649598e3707cf04c0577f464fd31be687f538fe\n",
      "64 -> 7798ca1ddb3133563e290c36228bc8f8f3c9f224e096f442ef0653856662d121\n",
      "65 -> 7978812d0e2e034ee1f9c141f019705582fcaa290e4a01c6c75a62753285cb23\n",
      "66 -> 7f38885521586fc6011bef1314a9fb2aa1e4935bd581b2991e1d963395eab770\n",
      "67 -> 7f4d7b549d0f1a110191e2aded872943d85892bc30667f19fe9de97a5370b08e\n",
      "68 -> 831218e6a1a54b23d4be56c5799854e7eb978811b89215319dc138900bd563e6\n",
      "69 -> 866a8cba7bfe1ea73e383d6cf492e53752579140c8b833bb56839a55bf79d855\n",
      "70 -> 87ea72894f6534b28e740cc34cf5c9eb75d0d8902687fce5fcc08a92e9f41386\n",
      "71 -> 91cc2e0d4d6e2c1ad59a8d63bcbe3e2ea8bc7f8e642e942a0113450181e73379\n",
      "72 -> 92f31f591929a30e4309ab75185c96ff4314ce0a7ead2ed2c2171897ad1da0c7\n",
      "73 -> 930f246a8e4ff273a72a6e4b3cf8e8caff94fca4eaf1dbe6f93ba37b8195c0a0\n",
      "74 -> 93c5638e7e6433b5c9cc87c152bcbe28873d2f9d6a392cca0642520807542a77\n",
      "75 -> 9586e48a9a4353f11898a6a4b7475a91574e8af82e99c4b7a5e1f1b18f345f7a\n",
      "76 -> 98a463483fe3a56deacc8bc00ab8aa62668bd40ad0c70bbe7deb10d3e4aeb0c0\n",
      "77 -> 9a71a416f98971aa14f63ef91242654cc9191a1414ce8bbd38066fe94559aa4f\n",
      "78 -> 9c95eae11da041189e84cda20bdfb75716a6594684de4b6ce12a9aaadbb874c9\n",
      "79 -> 9ebcfaf2322932d464f15b5662cae4d669b2d785b8299556d73fffcae8365d32\n",
      "80 -> a22b7882fa85b9f0fcef659a7b82bfcddf01710f9a7617a9e036e84ac6901841\n",
      "81 -> a31deaf0ac279d5f34fb2eca80cc2abce6ef30bd64e7aca40efe4b2ba8e9ad3d\n",
      "82 -> a3a65623e079af7988b0c1cf1e54041003c6d730c91ecf200b71c47b93a67ed6\n",
      "83 -> a6515d73077866808ad4cb837ecdac33612527b8a1041e82135e40fce2bb9380\n",
      "84 -> a7a581e6760df4701941670e73d72533e3b0fbd7563488ad92772b41f7709710\n",
      "85 -> a815a986800a95de0957116c6585deea8ffb6ee09ad00ccc687306937ac698d0\n",
      "86 -> abbfff07379bceb69dba41dad8b0db5eb80cc8baf3d4af87b7ee20b0dac32215\n",
      "87 -> b1eb0123fe2d8c825694b193efb7b923d95effac9558ee4eaf3116374c2c94fe\n",
      "88 -> b1f23c4d27afed8af7b6b64793a3760bfea31b65f582d48aaa62d2b988ef2eac\n",
      "89 -> b3a9f4c9035a0df7e033b18c63bfb0f0d87ff5a4d9aa8bdf417159bb733abb80\n",
      "90 -> b3b1626f8ad156acb2963d1faa6a368f9378a266c3b90d9321087fdc5b3032b4\n",
      "91 -> b4de1e3eec159d8af1bd5447696f8996c31709edaf33e26ba9613816705847db\n",
      "92 -> b7a86f4968071e0f963fa87ef314fdd1b6c73a66355431cc53a37e193ba6be9b\n",
      "93 -> b909aa8f6f4bec37c3fb6ff5a85d166162d07983506fcc57be742b0f9dbafbf7\n",
      "94 -> ba3997edd3fcb2f823ecdf870d2b607f08bff848f72a5cf72340bae5aca7c5ce\n",
      "95 -> bb481eae02085bbae08742f702b9ab7d8b2ff9df2fbefeee9fac51f7c77dd01f\n",
      "96 -> c35e6e3ea39a718e1b7aff66e4cc678efd662f9b5336b74d69c1d6bca7aaf288\n",
      "97 -> c53326fe49fc26b7fe602b9d8c0c2da2cb157690b44c2b9351a93f8d9bd8043d\n",
      "98 -> c901794d1a421d52e5734500c0a2a8ca84651fb93b19cec2f411855e70cae339\n",
      "99 -> c9f305be17312bdb9530fb4f1adc6d29730ddbe0e74730cbf031de174bf437b7\n",
      "100 -> cab4875269f44a701c5e58190a1d2f6fcb577ea79d842522dcab20ccb39b7ad2\n",
      "101 -> cb4df20a83b2f38b394c67f1d9d4aef29f9794d5345da3576318374ec3a11490\n",
      "102 -> cbca32daaae36a872a11da4eaff65d1068ff3f154eedc9d3fc0c214a4e5d32bd\n",
      "103 -> cf26c41245febfe67c2a1682cc4ee8752ee40ae3e49610314f45923b8bf5b08a\n",
      "104 -> d1dbc6ee7c44a7027e935d040e496793186b884a1028d0e26284a206c6f5aff0\n",
      "105 -> d32ea6d318626ca14a967d0c1ad3218aebfe636624a8d1173f5150dde8ff38cf\n",
      "106 -> d4d88391bc399a3715440d4da9f8b7a973e010dc1edd9551df2e5a538685add5\n",
      "107 -> d7d12a2acc47a94961aeb56fd56e8a0873016af75f5dd10915de9db8af8e4f5e\n",
      "108 -> d7db360fabfce9828559a21f6bffff589ae868e0dc6101d7c1212de34a25e3cb\n",
      "109 -> d7fc0d0a7339211f2433829c6553b762e2b9ef82cfe218d58ecae6643fa8e9c7\n",
      "110 -> d910b2b1be8406caecfe31a503d412ffc4e3d488286242ebc7381836121dd4ef\n",
      "111 -> da31f2aa8601afec5c45180a2c448cb9c4a8ec7b35e75190d6ba3588f69058c8\n",
      "112 -> da5f98f2b8a64eee735a398de48ed42cd31bf17a6063db46a9e0783ac13cd844\n",
      "113 -> da79a2b105f055ce75404a04bf53bbb51d518d9381af7b4ac714c137f101d920\n",
      "114 -> db45946a4412a2137674ec075b6892ccd682b77826aba618210569bbc65cf2b0\n",
      "115 -> dbbfe08a52688d0ac8de9161cbb17cb201e3991aacab8ab8a77fe0e203a69481\n",
      "116 -> df53d0b6c2c4e45d759b2c474011e2b2b32552cd100ca4b22388ab9ca1750ee2\n",
      "117 -> e1bcb583985325d0ef5f3ef52957d0371c96d4af767b13e48102bca9d5351a9b\n",
      "118 -> e50ac10d1dce6496d092d966784ed3795969128ca0bc58199a36d558ed529203\n",
      "119 -> e66f25e175abab08ecb4e5f6859db64a211e0ddffb262d7e727b9d9bd4aad2d2\n",
      "120 -> e81c758e1ca177b0942ecad62cf8d321ffc315376135bcbed3df932a6e5b40c0\n",
      "121 -> ead9464a50a17f74bf1b6471d94ecce8d887cf518c8fedc6c6048eb948bc4e49\n",
      "122 -> ef3ef194e5657fda708ecbd3eb6530286ed2ba23c88efb9f1715298975c73548\n",
      "123 -> f113626a04125d97b27f21b45a0ce9a686d73dee7b5dbc0725d49194ba0203bd\n",
      "124 -> f26f4c2c70c38fe12e00d5a814d5116691f2ca548908126923fd76ddd665ed24\n",
      "125 -> f6cb37ebf29c225284c8415962f7287abe7007fae8fe3d8a3899b608b832d7d5\n",
      "126 -> f81ca7ee25e733ff37240c34c8e3044d9937bb0166e315952ebde3f237ecb86f\n",
      "127 -> fa751ff3a6332c95cb5cb1d28563553914295e9e7d35c4b6bd267241e8a0787c\n",
      "128 -> fc22db33a2495f58f118bc182c0087e140df14ccb8dad51373e1a54381f683de\n",
      "129 -> fc9269fb2e651cd4a32b65ae164f79b0a2ea823e0a83508c85d7985a6bed43cf\n",
      "130 -> fec226e45f49ab81ab71e0eaa1248ba09b56a328338dce93a43f4044eababed5\n",
      "131 -> ff3e512b5fb860e5855d0c05b6cf5a6bcc7792e4be1f0bdab5a00af0e18435c0\n",
      "132 -> ff599c7301daa1f783924ac8cbe3ce7b42878f15a39c2d19659189951f540f48\n"
     ]
    }
   ],
   "source": [
    "# get the link between image_id and specimen_id\n",
    "for image_id in dataset_val.image_ids:\n",
    "    image_data = dataset_val.get_info(image_id)\n",
    "    print ('{} -> {}'.format(image_id, image_data['specimen_id']))"
   ]
  },
  {
   "cell_type": "code",
   "execution_count": 64,
   "metadata": {},
   "outputs": [
    {
     "name": "stdout",
     "output_type": "stream",
     "text": [
      "6aa7dd0c88bec4f96cdd497f9c37779733033d9ec6513307461302d36bd32ac7\n"
     ]
    }
   ],
   "source": [
    "# pick a specimen\n",
    "#image_id = random.choice(dataset_val.image_ids)\n",
    "image_id = 56\n",
    "image_data = dataset_val.get_info(image_id)\n",
    "print(image_data['specimen_id'])"
   ]
  },
  {
   "cell_type": "markdown",
   "metadata": {},
   "source": [
    "<H2>Ground Truth</H2>\n",
    "Ground truth from the original masks."
   ]
  },
  {
   "cell_type": "code",
   "execution_count": 65,
   "metadata": {},
   "outputs": [],
   "source": [
    "# get ground truth data\n",
    "original_image, _, \\\n",
    "class_ids, \\\n",
    "rois,\\\n",
    "gt_masks = modellib.load_image_gt(dataset_val, config, image_id, use_mini_mask=False)"
   ]
  },
  {
   "cell_type": "code",
   "execution_count": 66,
   "metadata": {},
   "outputs": [
    {
     "name": "stdout",
     "output_type": "stream",
     "text": [
      "10\n"
     ]
    }
   ],
   "source": [
    "print(gt_masks.shape[-1])"
   ]
  },
  {
   "cell_type": "markdown",
   "metadata": {},
   "source": [
    "<H3>Base Model</H3>"
   ]
  },
  {
   "cell_type": "code",
   "execution_count": 67,
   "metadata": {},
   "outputs": [],
   "source": [
    "# remove previous model\n",
    "!rm model/mask_rcnn.h5"
   ]
  },
  {
   "cell_type": "code",
   "execution_count": 68,
   "metadata": {},
   "outputs": [],
   "source": [
    "# load original prediction weights\n",
    "model.load_weights(dsbhelper.get_pretrained_weights(pretrained='last',\n",
    "                                                    gcs_weights_fname=gcs_model_weights), by_name=True)"
   ]
  },
  {
   "cell_type": "code",
   "execution_count": 69,
   "metadata": {},
   "outputs": [
    {
     "name": "stdout",
     "output_type": "stream",
     "text": [
      "Processing 1 images\n",
      "image                    shape: (512, 512, 3)         min:   10.00000  max:  253.00000\n",
      "molded_images            shape: (1, 512, 512, 3)      min:  -36.82168  max:  214.78432\n",
      "image_metas              shape: (1, 10)               min:    0.00000  max:  512.00000\n",
      "(512, 512, 10)\n",
      "(10, 4)\n",
      "(10,)\n",
      "(10,)\n"
     ]
    }
   ],
   "source": [
    "# get predictions\n",
    "p = model.detect([original_image], verbose=1)\n",
    "prediction = p[0]\n",
    "print(prediction['masks'].shape)\n",
    "print(prediction['rois'].shape)\n",
    "print(prediction['scores'].shape)\n",
    "print(prediction['class_ids'].shape)"
   ]
  },
  {
   "cell_type": "code",
   "execution_count": 70,
   "metadata": {},
   "outputs": [],
   "source": [
    "# drop small masks from the prediction\n",
    "prediction['masks'], \\\n",
    "    prediction['rois'], \\\n",
    "    prediction['class_ids'], \\\n",
    "    prediction['scores'] = dsbhelper.drop_small_masks(prediction['masks'], \n",
    "                                                      prediction['rois'], \n",
    "                                                      prediction['class_ids'], \n",
    "                                                      prediction['scores'], \n",
    "                                                      min=0.15,\n",
    "                                                      max=6.0)"
   ]
  },
  {
   "cell_type": "code",
   "execution_count": 79,
   "metadata": {},
   "outputs": [
    {
     "name": "stdout",
     "output_type": "stream",
     "text": [
      "(512, 512, 10)\n"
     ]
    }
   ],
   "source": [
    "print(prediction['masks'].shape)"
   ]
  },
  {
   "cell_type": "markdown",
   "metadata": {},
   "source": [
    "<H3>Watershed Annotation Model</H3>"
   ]
  },
  {
   "cell_type": "code",
   "execution_count": 71,
   "metadata": {},
   "outputs": [],
   "source": [
    "# remove previous model\n",
    "!rm model/mask_rcnn.h5"
   ]
  },
  {
   "cell_type": "code",
   "execution_count": 72,
   "metadata": {},
   "outputs": [],
   "source": [
    "# load watershed annotation weights\n",
    "model.load_weights(dsbhelper.get_pretrained_weights(pretrained='last',\n",
    "                                                    gcs_weights_fname=ws_model_weights), by_name=True)"
   ]
  },
  {
   "cell_type": "code",
   "execution_count": 73,
   "metadata": {},
   "outputs": [
    {
     "name": "stdout",
     "output_type": "stream",
     "text": [
      "Processing 1 images\n",
      "image                    shape: (512, 512, 3)         min:   10.00000  max:  253.00000\n",
      "molded_images            shape: (1, 512, 512, 3)      min:  -36.82168  max:  214.78432\n",
      "image_metas              shape: (1, 10)               min:    0.00000  max:  512.00000\n",
      "(512, 512, 10)\n",
      "(10, 4)\n",
      "(10,)\n",
      "(10,)\n"
     ]
    }
   ],
   "source": [
    "# get watershed predictions\n",
    "ws_p = model.detect([original_image], verbose=1)\n",
    "ws_prediction = ws_p[0]\n",
    "print(ws_prediction['masks'].shape)\n",
    "print(ws_prediction['rois'].shape)\n",
    "print(ws_prediction['scores'].shape)\n",
    "print(ws_prediction['class_ids'].shape)"
   ]
  },
  {
   "cell_type": "code",
   "execution_count": 17,
   "metadata": {},
   "outputs": [],
   "source": [
    "# drop small masks\n",
    "ws_prediction['masks'], \\\n",
    "    ws_prediction['rois'], \\\n",
    "    ws_prediction['class_ids'], \\\n",
    "    ws_prediction['scores'] = dsbhelper.drop_small_masks(ws_prediction['masks'], \n",
    "                                                         ws_prediction['rois'], \n",
    "                                                         ws_prediction['class_ids'], \n",
    "                                                         ws_prediction['scores'], \n",
    "                                                         min=0.15,\n",
    "                                                         max=6.0)"
   ]
  },
  {
   "cell_type": "markdown",
   "metadata": {},
   "source": [
    "<H3>Random Walk Annotation Model</H3>"
   ]
  },
  {
   "cell_type": "code",
   "execution_count": 18,
   "metadata": {},
   "outputs": [],
   "source": [
    "# remove previous model\n",
    "!rm model/mask_rcnn.h5"
   ]
  },
  {
   "cell_type": "code",
   "execution_count": 19,
   "metadata": {},
   "outputs": [],
   "source": [
    "# load random walk annotation weights\n",
    "model.load_weights(dsbhelper.get_pretrained_weights(pretrained='last',\n",
    "                                                    gcs_weights_fname=rw_model_weights), by_name=True)"
   ]
  },
  {
   "cell_type": "code",
   "execution_count": 20,
   "metadata": {},
   "outputs": [
    {
     "name": "stdout",
     "output_type": "stream",
     "text": [
      "Processing 1 images\n",
      "image                    shape: (512, 512, 3)         min:    0.00000  max:  240.00000\n",
      "molded_images            shape: (1, 512, 512, 3)      min:  -46.82168  max:  197.82254\n",
      "image_metas              shape: (1, 10)               min:    0.00000  max:  512.00000\n",
      "(512, 512, 79)\n",
      "(79, 4)\n",
      "(79,)\n",
      "(79,)\n"
     ]
    }
   ],
   "source": [
    "# get random walk predictions\n",
    "rw_p = model.detect([original_image], verbose=1)\n",
    "rw_prediction = rw_p[0]\n",
    "print(rw_prediction['masks'].shape)\n",
    "print(rw_prediction['rois'].shape)\n",
    "print(rw_prediction['scores'].shape)\n",
    "print(rw_prediction['class_ids'].shape)"
   ]
  },
  {
   "cell_type": "code",
   "execution_count": 21,
   "metadata": {},
   "outputs": [],
   "source": [
    "# drop small masks\n",
    "rw_prediction['masks'], \\\n",
    "    rw_prediction['rois'], \\\n",
    "    rw_prediction['class_ids'], \\\n",
    "    rw_prediction['scores'] = dsbhelper.drop_small_masks(rw_prediction['masks'], \n",
    "                                                         rw_prediction['rois'], \n",
    "                                                         rw_prediction['class_ids'], \n",
    "                                                         rw_prediction['scores'], \n",
    "                                                         min=0.15,\n",
    "                                                         max=6.0)"
   ]
  },
  {
   "cell_type": "markdown",
   "metadata": {},
   "source": [
    "<H3>Active Contours with Gaussian Blur Annotation Model</H3>"
   ]
  },
  {
   "cell_type": "code",
   "execution_count": 22,
   "metadata": {},
   "outputs": [],
   "source": [
    "# remove previous model\n",
    "!rm model/mask_rcnn.h5"
   ]
  },
  {
   "cell_type": "code",
   "execution_count": 23,
   "metadata": {},
   "outputs": [],
   "source": [
    "# load active contours gaussian annotation weights\n",
    "model.load_weights(dsbhelper.get_pretrained_weights(pretrained='last',\n",
    "                                                    gcs_weights_fname=ag_model_weights), by_name=True)"
   ]
  },
  {
   "cell_type": "code",
   "execution_count": 24,
   "metadata": {},
   "outputs": [
    {
     "name": "stdout",
     "output_type": "stream",
     "text": [
      "Processing 1 images\n",
      "image                    shape: (512, 512, 3)         min:    0.00000  max:  240.00000\n",
      "molded_images            shape: (1, 512, 512, 3)      min:  -46.82168  max:  197.82254\n",
      "image_metas              shape: (1, 10)               min:    0.00000  max:  512.00000\n",
      "(512, 512, 73)\n",
      "(73, 4)\n",
      "(73,)\n",
      "(73,)\n"
     ]
    }
   ],
   "source": [
    "# get active contours gaussian predictions\n",
    "ag_p = model.detect([original_image], verbose=1)\n",
    "ag_prediction = ag_p[0]\n",
    "print(ag_prediction['masks'].shape)\n",
    "print(ag_prediction['rois'].shape)\n",
    "print(ag_prediction['scores'].shape)\n",
    "print(ag_prediction['class_ids'].shape)"
   ]
  },
  {
   "cell_type": "code",
   "execution_count": 25,
   "metadata": {},
   "outputs": [],
   "source": [
    "# drop small masks\n",
    "ag_prediction['masks'], \\\n",
    "    ag_prediction['rois'], \\\n",
    "    ag_prediction['class_ids'], \\\n",
    "    ag_prediction['scores'] = dsbhelper.drop_small_masks(ag_prediction['masks'], \n",
    "                                                         ag_prediction['rois'], \n",
    "                                                         ag_prediction['class_ids'], \n",
    "                                                         ag_prediction['scores'], \n",
    "                                                         min=0.15,\n",
    "                                                         max=6.0)"
   ]
  },
  {
   "cell_type": "markdown",
   "metadata": {},
   "source": [
    "<H3>Active Contours with Median Blur Annotation Model</H3>"
   ]
  },
  {
   "cell_type": "code",
   "execution_count": 26,
   "metadata": {},
   "outputs": [],
   "source": [
    "# remove previous model\n",
    "!rm model/mask_rcnn.h5"
   ]
  },
  {
   "cell_type": "code",
   "execution_count": 27,
   "metadata": {},
   "outputs": [],
   "source": [
    "# load active contours median annotation weights\n",
    "model.load_weights(dsbhelper.get_pretrained_weights(pretrained='last',\n",
    "                                                    gcs_weights_fname=am_model_weights), by_name=True)"
   ]
  },
  {
   "cell_type": "code",
   "execution_count": 28,
   "metadata": {},
   "outputs": [
    {
     "name": "stdout",
     "output_type": "stream",
     "text": [
      "Processing 1 images\n",
      "image                    shape: (512, 512, 3)         min:    0.00000  max:  240.00000\n",
      "molded_images            shape: (1, 512, 512, 3)      min:  -46.82168  max:  197.82254\n",
      "image_metas              shape: (1, 10)               min:    0.00000  max:  512.00000\n",
      "(512, 512, 80)\n",
      "(80, 4)\n",
      "(80,)\n",
      "(80,)\n"
     ]
    }
   ],
   "source": [
    "# get active contours median predictions\n",
    "am_p = model.detect([original_image], verbose=1)\n",
    "am_prediction = am_p[0]\n",
    "print(am_prediction['masks'].shape)\n",
    "print(am_prediction['rois'].shape)\n",
    "print(am_prediction['scores'].shape)\n",
    "print(am_prediction['class_ids'].shape)"
   ]
  },
  {
   "cell_type": "code",
   "execution_count": 29,
   "metadata": {},
   "outputs": [],
   "source": [
    "# drop small masks\n",
    "am_prediction['masks'], \\\n",
    "    am_prediction['rois'], \\\n",
    "    am_prediction['class_ids'], \\\n",
    "    am_prediction['scores'] = dsbhelper.drop_small_masks(am_prediction['masks'], \n",
    "                                                         am_prediction['rois'], \n",
    "                                                         am_prediction['class_ids'], \n",
    "                                                         am_prediction['scores'], \n",
    "                                                         min=0.15,\n",
    "                                                         max=6.0)"
   ]
  },
  {
   "cell_type": "code",
   "execution_count": 30,
   "metadata": {},
   "outputs": [],
   "source": [
    "# ----------------------------------------------------------------\n",
    "# Calculates the intersection over union of two bounding boxes\n",
    "# ----------------------------------------------------------------\n",
    "def bbox_iou(boxA, boxB):\n",
    "    \n",
    "    # y1, x1, y2, x2\n",
    "    if not (boxA[3] < boxB[1] or boxB[3] < boxA[1] or boxA[0] > boxB[2] or boxB[0] > boxA[2]):  \n",
    "    \n",
    "        # determine the (x, y)-coordinates of the intersection rectangle\n",
    "        xA = max(boxA[1], boxB[1])\n",
    "        yA = max(boxA[0], boxB[0])\n",
    "        xB = min(boxA[3], boxB[3])\n",
    "        yB = min(boxA[2], boxB[2])\n",
    "\n",
    "        # compute the area of intersection rectangle\n",
    "        interArea = np.abs((xB - xA + 1) * (yB - yA + 1))\n",
    "\n",
    "        # compute the area of both the prediction and ground-truth\n",
    "        # rectangles\n",
    "        boxAArea = np.abs((boxA[2] - boxA[0] + 1) * (boxA[3] - boxA[1] + 1))\n",
    "        boxBArea = np.abs((boxB[2] - boxB[0] + 1) * (boxB[3] - boxB[1] + 1))\n",
    "\n",
    "        # compute the intersection over union by taking the intersection\n",
    "        # area and dividing it by the sum of prediction + ground-truth\n",
    "        # areas - the interesection area\n",
    "        iou = interArea / float(boxAArea + boxBArea - interArea)\n",
    "    \n",
    "    else:\n",
    "        \n",
    "        iou = 0\n",
    " \n",
    "    # return the intersection over union value\n",
    "    return iou"
   ]
  },
  {
   "cell_type": "code",
   "execution_count": 31,
   "metadata": {},
   "outputs": [],
   "source": [
    "# ----------------------------------------------------------------------\n",
    "# Calculates the per pixel intersection over union of two binary masks\n",
    "# ----------------------------------------------------------------------\n",
    "def pixel_iou(m1, m2):\n",
    "    intersection = m1 * m2\n",
    "    union = m1 | m2\n",
    "    return (np.sum(intersection)/np.sum(union)).astype(np.float16)"
   ]
  },
  {
   "cell_type": "code",
   "execution_count": 32,
   "metadata": {},
   "outputs": [
    {
     "name": "stdout",
     "output_type": "stream",
     "text": [
      "pd[00][p=1.000]:ag[25][p=0.992] -> pix_iou=0.802\n",
      "pd[01][p=1.000]:ag[01][p=0.998] -> pix_iou=0.816\n",
      "pd[02][p=1.000]:ag[13][p=0.996] -> pix_iou=0.776\n",
      "pd[03][p=1.000]:ag[24][p=0.994] -> pix_iou=0.794\n",
      "pd[04][p=1.000]:ag[42][p=0.980] -> pix_iou=0.772\n",
      "pd[05][p=1.000]:ag[03][p=0.998] -> pix_iou=0.799\n",
      "pd[06][p=1.000]:ag[06][p=0.997] -> pix_iou=0.860\n",
      "pd[07][p=1.000]:ag[48][p=0.962] -> pix_iou=0.748\n",
      "pd[08][p=0.999]:ag[53][p=0.937] -> pix_iou=0.688\n",
      "pd[09][p=0.999]:ag[17][p=0.995] -> pix_iou=0.779\n",
      "pd[10][p=0.999]:ag[05][p=0.997] -> pix_iou=0.780\n",
      "pd[11][p=0.999]:ag[04][p=0.998] -> pix_iou=0.839\n",
      "pd[12][p=0.999]:ag[23][p=0.994] -> pix_iou=0.714\n",
      "pd[13][p=0.999]:ag[09][p=0.997] -> pix_iou=0.837\n",
      "pd[14][p=0.999]:ag[14][p=0.996] -> pix_iou=0.700\n",
      "pd[15][p=0.999]:ag[21][p=0.995] -> pix_iou=0.877\n",
      "pd[16][p=0.999]:ag[07][p=0.997] -> pix_iou=0.792\n",
      "pd[17][p=0.999]:ag[16][p=0.996] -> pix_iou=0.839\n",
      "pd[18][p=0.999]:ag[41][p=0.982] -> pix_iou=0.829\n",
      "pd[19][p=0.999]:ag[65][p=0.683] -> pix_iou=0.700\n",
      "pd[20][p=0.999]:ag[20][p=0.995] -> pix_iou=0.688\n",
      "pd[21][p=0.999]:ag[12][p=0.996] -> pix_iou=0.780\n",
      "pd[22][p=0.999]:ag[37][p=0.987] -> pix_iou=0.492\n",
      "pd[23][p=0.999]:ag[10][p=0.997] -> pix_iou=0.851\n",
      "pd[24][p=0.999]:ag[39][p=0.984] -> pix_iou=0.681\n",
      "pd[25][p=0.999]:ag[11][p=0.996] -> pix_iou=0.799\n",
      "pd[26][p=0.999]:ag[02][p=0.998] -> pix_iou=0.761\n",
      "pd[27][p=0.998]:ag[00][p=0.999] -> pix_iou=0.725\n",
      "pd[28][p=0.998]:ag[67][p=0.501] -> pix_iou=0.538\n",
      "pd[29][p=0.998]:ag[54][p=0.933] -> pix_iou=0.730\n",
      "pd[30][p=0.998]:ag[35][p=0.990] -> pix_iou=0.779\n",
      "pd[31][p=0.998]:ag[33][p=0.991] -> pix_iou=0.848\n",
      "pd[32][p=0.997]:ag[29][p=0.991] -> pix_iou=0.890\n",
      "pd[34][p=0.997]:ag[44][p=0.972] -> pix_iou=0.871\n",
      "pd[35][p=0.996]:ag[31][p=0.991] -> pix_iou=0.778\n",
      "pd[36][p=0.996]:ag[15][p=0.996] -> pix_iou=0.817\n",
      "pd[37][p=0.996]:ag[22][p=0.994] -> pix_iou=0.774\n",
      "pd[38][p=0.996]:ag[18][p=0.995] -> pix_iou=0.517\n",
      "pd[39][p=0.996]:ag[50][p=0.953] -> pix_iou=0.653\n",
      "pd[40][p=0.995]:ag[60][p=0.806] -> pix_iou=0.604\n",
      "pd[41][p=0.995]:ag[32][p=0.991] -> pix_iou=0.702\n",
      "pd[42][p=0.995]:ag[27][p=0.992] -> pix_iou=0.777\n",
      "pd[44][p=0.995]:ag[49][p=0.956] -> pix_iou=0.728\n",
      "pd[45][p=0.994]:ag[38][p=0.985] -> pix_iou=0.666\n",
      "pd[47][p=0.993]:ag[63][p=0.728] -> pix_iou=0.848\n",
      "pd[48][p=0.993]:ag[34][p=0.990] -> pix_iou=0.556\n",
      "pd[49][p=0.992]:ag[08][p=0.997] -> pix_iou=0.757\n",
      "pd[50][p=0.992]:ag[30][p=0.991] -> pix_iou=0.651\n",
      "pd[51][p=0.991]:ag[19][p=0.995] -> pix_iou=0.609\n",
      "pd[52][p=0.991]:ag[43][p=0.973] -> pix_iou=0.672\n",
      "pd[54][p=0.991]:ag[36][p=0.989] -> pix_iou=0.598\n",
      "pd[56][p=0.990]:ag[40][p=0.982] -> pix_iou=0.753\n",
      "pd[57][p=0.988]:ag[59][p=0.838] -> pix_iou=0.713\n",
      "pd[59][p=0.987]:ag[52][p=0.937] -> pix_iou=0.495\n",
      "pd[60][p=0.986]:ag[55][p=0.928] -> pix_iou=0.501\n",
      "pd[62][p=0.984]:ag[26][p=0.992] -> pix_iou=0.672\n",
      "pd[64][p=0.981]:ag[47][p=0.967] -> pix_iou=0.762\n",
      "pd[66][p=0.978]:ag[45][p=0.972] -> pix_iou=0.737\n",
      "pd[67][p=0.975]:ag[28][p=0.992] -> pix_iou=0.801\n",
      "pd[68][p=0.973]:ag[56][p=0.927] -> pix_iou=0.614\n",
      "pd[69][p=0.970]:ag[51][p=0.944] -> pix_iou=0.696\n",
      "pd[70][p=0.965]:ag[46][p=0.968] -> pix_iou=0.615\n",
      "pd[72][p=0.919]:ag[62][p=0.774] -> pix_iou=0.824\n",
      "pd[75][p=0.842]:ag[61][p=0.777] -> pix_iou=0.623\n",
      "pd[76][p=0.630]:ag[64][p=0.685] -> pix_iou=0.834\n"
     ]
    }
   ],
   "source": [
    "for i, bb_a in enumerate(prediction['rois']):\n",
    "    for j, bb_b in enumerate(ag_prediction['rois']):\n",
    "        iou = bbox_iou(bb_a, bb_b)\n",
    "        if iou > 0.5 and iou <= 1:\n",
    "            pix_iou = pixel_iou(prediction['masks'][:,:,i], ag_prediction['masks'][:,:,j])\n",
    "            print('pd[{:02d}][p={:0.3f}]:ag[{:02d}][p={:0.3f}] -> pix_iou={:0.3f}'.format(i, \n",
    "                                                                                          prediction['scores'][i], \n",
    "                                                                                          j, \n",
    "                                                                                          ag_prediction['scores'][j], \n",
    "                                                                                          pix_iou))\n"
   ]
  },
  {
   "cell_type": "code",
   "execution_count": 33,
   "metadata": {},
   "outputs": [
    {
     "name": "stdout",
     "output_type": "stream",
     "text": [
      "pd[00]:gt[57] -> bb_iou=0.925 | pix_iou=0.888\n",
      "pd[01]:gt[00] -> bb_iou=0.909 | pix_iou=0.905\n",
      "pd[02]:gt[40] -> bb_iou=0.761 | pix_iou=0.824\n",
      "pd[03]:gt[72] -> bb_iou=0.763 | pix_iou=0.727\n",
      "pd[04]:gt[51] -> bb_iou=0.843 | pix_iou=0.834\n",
      "pd[05]:gt[12] -> bb_iou=0.887 | pix_iou=0.888\n",
      "pd[06]:gt[36] -> bb_iou=0.818 | pix_iou=0.856\n",
      "pd[07]:gt[09] -> bb_iou=0.886 | pix_iou=0.843\n",
      "pd[08]:gt[39] -> bb_iou=0.969 | pix_iou=0.860\n",
      "pd[09]:gt[10] -> bb_iou=0.823 | pix_iou=0.869\n",
      "pd[10]:gt[73] -> bb_iou=0.921 | pix_iou=0.873\n",
      "pd[11]:gt[49] -> bb_iou=0.820 | pix_iou=0.859\n",
      "pd[12]:gt[54] -> bb_iou=0.522 | pix_iou=0.611\n",
      "pd[13]:gt[07] -> bb_iou=0.897 | pix_iou=0.908\n",
      "pd[14]:gt[34] -> bb_iou=0.835 | pix_iou=0.890\n",
      "pd[15]:gt[59] -> bb_iou=0.929 | pix_iou=0.862\n",
      "pd[16]:gt[25] -> bb_iou=0.953 | pix_iou=0.910\n",
      "pd[17]:gt[35] -> bb_iou=0.837 | pix_iou=0.908\n",
      "pd[18]:gt[16] -> bb_iou=0.860 | pix_iou=0.825\n",
      "pd[19]:gt[30] -> bb_iou=0.734 | pix_iou=0.724\n",
      "pd[20]:gt[32] -> bb_iou=0.817 | pix_iou=0.809\n",
      "pd[21]:gt[67] -> bb_iou=0.818 | pix_iou=0.822\n",
      "pd[22]:gt[41] -> bb_iou=0.797 | pix_iou=0.851\n",
      "pd[23]:gt[13] -> bb_iou=0.875 | pix_iou=0.893\n",
      "pd[24]:gt[31] -> bb_iou=0.809 | pix_iou=0.821\n",
      "pd[25]:gt[21] -> bb_iou=0.844 | pix_iou=0.863\n",
      "pd[26]:gt[65] -> bb_iou=0.907 | pix_iou=0.875\n",
      "pd[27]:gt[44] -> bb_iou=0.836 | pix_iou=0.861\n",
      "pd[28]:gt[52] -> bb_iou=0.820 | pix_iou=0.845\n",
      "pd[29]:gt[23] -> bb_iou=0.884 | pix_iou=0.876\n",
      "pd[30]:gt[46] -> bb_iou=0.762 | pix_iou=0.773\n",
      "pd[31]:gt[06] -> bb_iou=0.800 | pix_iou=0.808\n",
      "pd[32]:gt[48] -> bb_iou=0.873 | pix_iou=0.835\n",
      "pd[33]:gt[28] -> bb_iou=0.843 | pix_iou=0.802\n",
      "pd[34]:gt[26] -> bb_iou=0.794 | pix_iou=0.849\n",
      "pd[35]:gt[05] -> bb_iou=0.878 | pix_iou=0.861\n",
      "pd[36]:gt[37] -> bb_iou=0.825 | pix_iou=0.769\n",
      "pd[37]:gt[33] -> bb_iou=0.925 | pix_iou=0.854\n",
      "pd[38]:gt[50] -> bb_iou=0.828 | pix_iou=0.693\n",
      "pd[39]:gt[19] -> bb_iou=0.804 | pix_iou=0.838\n",
      "pd[40]:gt[66] -> bb_iou=0.888 | pix_iou=0.775\n",
      "pd[41]:gt[29] -> bb_iou=0.935 | pix_iou=0.860\n",
      "pd[42]:gt[22] -> bb_iou=0.839 | pix_iou=0.817\n",
      "pd[43]:gt[69] -> bb_iou=0.842 | pix_iou=0.868\n",
      "pd[44]:gt[56] -> bb_iou=0.625 | pix_iou=0.642\n",
      "pd[45]:gt[38] -> bb_iou=0.780 | pix_iou=0.752\n",
      "pd[46]:gt[53] -> bb_iou=0.822 | pix_iou=0.726\n",
      "pd[47]:gt[24] -> bb_iou=0.885 | pix_iou=0.862\n",
      "pd[48]:gt[62] -> bb_iou=0.912 | pix_iou=0.852\n",
      "pd[50]:gt[08] -> bb_iou=0.880 | pix_iou=0.808\n",
      "pd[52]:gt[55] -> bb_iou=0.899 | pix_iou=0.821\n",
      "pd[53]:gt[61] -> bb_iou=0.783 | pix_iou=0.865\n",
      "pd[54]:gt[04] -> bb_iou=0.750 | pix_iou=0.733\n",
      "pd[56]:gt[74] -> bb_iou=0.732 | pix_iou=0.757\n",
      "pd[57]:gt[70] -> bb_iou=0.784 | pix_iou=0.825\n",
      "pd[58]:gt[01] -> bb_iou=0.761 | pix_iou=0.684\n",
      "pd[59]:gt[42] -> bb_iou=0.815 | pix_iou=0.814\n",
      "pd[60]:gt[20] -> bb_iou=0.664 | pix_iou=0.730\n",
      "pd[63]:gt[64] -> bb_iou=0.843 | pix_iou=0.823\n",
      "pd[64]:gt[71] -> bb_iou=0.573 | pix_iou=0.641\n",
      "pd[68]:gt[27] -> bb_iou=0.769 | pix_iou=0.743\n",
      "pd[69]:gt[02] -> bb_iou=0.750 | pix_iou=0.738\n",
      "pd[70]:gt[17] -> bb_iou=0.806 | pix_iou=0.649\n",
      "pd[71]:gt[58] -> bb_iou=0.596 | pix_iou=0.577\n",
      "pd[73]:gt[03] -> bb_iou=0.551 | pix_iou=0.564\n",
      "pd[79]:gt[14] -> bb_iou=0.767 | pix_iou=0.617\n"
     ]
    }
   ],
   "source": [
    "for i, bb_a in enumerate(prediction['rois']):\n",
    "    for j, bb_b in enumerate(rois):\n",
    "        iou = bbox_iou(bb_a, bb_b)\n",
    "        if iou > 0.5 and iou <= 1:\n",
    "            pix_iou = pixel_iou(prediction['masks'][:,:,i], gt_masks[:,:,j])\n",
    "            print('pd[{:02d}]:gt[{:02d}] -> bb_iou={:0.3f} | pix_iou={:0.3f}'.format(i, j, iou, pix_iou))"
   ]
  },
  {
   "cell_type": "code",
   "execution_count": 34,
   "metadata": {},
   "outputs": [
    {
     "name": "stdout",
     "output_type": "stream",
     "text": [
      "(512, 512, 80)\n"
     ]
    }
   ],
   "source": [
    "print(prediction['masks'].shape)"
   ]
  },
  {
   "cell_type": "code",
   "execution_count": 35,
   "metadata": {},
   "outputs": [
    {
     "name": "stdout",
     "output_type": "stream",
     "text": [
      "ws[00]:gt[00] -> bb_iou=0.829 | pix_iou=0.797\n",
      "ws[01]:gt[13] -> bb_iou=0.944 | pix_iou=0.857\n",
      "ws[02]:gt[09] -> bb_iou=0.741 | pix_iou=0.689\n",
      "ws[03]:gt[12] -> bb_iou=0.836 | pix_iou=0.804\n",
      "ws[04]:gt[57] -> bb_iou=0.756 | pix_iou=0.788\n",
      "ws[05]:gt[40] -> bb_iou=0.733 | pix_iou=0.789\n",
      "ws[06]:gt[51] -> bb_iou=0.774 | pix_iou=0.735\n",
      "ws[07]:gt[72] -> bb_iou=0.895 | pix_iou=0.850\n",
      "ws[08]:gt[59] -> bb_iou=0.821 | pix_iou=0.823\n",
      "ws[09]:gt[07] -> bb_iou=0.842 | pix_iou=0.808\n",
      "ws[10]:gt[16] -> bb_iou=0.746 | pix_iou=0.754\n",
      "ws[11]:gt[24] -> bb_iou=0.835 | pix_iou=0.786\n",
      "ws[12]:gt[73] -> bb_iou=0.739 | pix_iou=0.739\n",
      "ws[13]:gt[49] -> bb_iou=0.775 | pix_iou=0.846\n",
      "ws[14]:gt[36] -> bb_iou=0.856 | pix_iou=0.849\n",
      "ws[15]:gt[23] -> bb_iou=0.756 | pix_iou=0.758\n",
      "ws[16]:gt[34] -> bb_iou=0.737 | pix_iou=0.809\n",
      "ws[17]:gt[67] -> bb_iou=0.882 | pix_iou=0.897\n",
      "ws[18]:gt[65] -> bb_iou=0.761 | pix_iou=0.718\n",
      "ws[19]:gt[54] -> bb_iou=0.591 | pix_iou=0.597\n",
      "ws[20]:gt[35] -> bb_iou=0.782 | pix_iou=0.788\n",
      "ws[21]:gt[25] -> bb_iou=0.858 | pix_iou=0.844\n",
      "ws[22]:gt[41] -> bb_iou=0.773 | pix_iou=0.751\n",
      "ws[23]:gt[44] -> bb_iou=0.752 | pix_iou=0.777\n",
      "ws[24]:gt[31] -> bb_iou=0.743 | pix_iou=0.713\n",
      "ws[25]:gt[50] -> bb_iou=0.697 | pix_iou=0.594\n",
      "ws[26]:gt[39] -> bb_iou=0.882 | pix_iou=0.820\n",
      "ws[27]:gt[06] -> bb_iou=0.659 | pix_iou=0.670\n",
      "ws[28]:gt[21] -> bb_iou=0.847 | pix_iou=0.877\n",
      "ws[29]:gt[32] -> bb_iou=0.779 | pix_iou=0.846\n",
      "ws[30]:gt[33] -> bb_iou=0.858 | pix_iou=0.786\n",
      "ws[31]:gt[37] -> bb_iou=0.800 | pix_iou=0.725\n",
      "ws[32]:gt[30] -> bb_iou=0.671 | pix_iou=0.672\n",
      "ws[33]:gt[63] -> bb_iou=0.562 | pix_iou=0.613\n",
      "ws[34]:gt[38] -> bb_iou=0.776 | pix_iou=0.713\n",
      "ws[35]:gt[62] -> bb_iou=0.820 | pix_iou=0.770\n",
      "ws[36]:gt[19] -> bb_iou=0.743 | pix_iou=0.715\n",
      "ws[37]:gt[52] -> bb_iou=0.710 | pix_iou=0.756\n",
      "ws[38]:gt[53] -> bb_iou=0.653 | pix_iou=0.654\n",
      "ws[39]:gt[48] -> bb_iou=0.890 | pix_iou=0.842\n",
      "ws[40]:gt[10] -> bb_iou=0.754 | pix_iou=0.863\n",
      "ws[41]:gt[46] -> bb_iou=0.696 | pix_iou=0.676\n",
      "ws[42]:gt[04] -> bb_iou=0.641 | pix_iou=0.583\n",
      "ws[43]:gt[55] -> bb_iou=0.893 | pix_iou=0.717\n",
      "ws[45]:gt[56] -> bb_iou=0.727 | pix_iou=0.704\n",
      "ws[46]:gt[26] -> bb_iou=0.634 | pix_iou=0.689\n",
      "ws[47]:gt[69] -> bb_iou=0.786 | pix_iou=0.706\n",
      "ws[48]:gt[66] -> bb_iou=0.654 | pix_iou=0.700\n",
      "ws[50]:gt[17] -> bb_iou=0.748 | pix_iou=0.658\n",
      "ws[51]:gt[22] -> bb_iou=0.783 | pix_iou=0.814\n",
      "ws[52]:gt[20] -> bb_iou=0.726 | pix_iou=0.733\n",
      "ws[53]:gt[71] -> bb_iou=0.912 | pix_iou=0.771\n",
      "ws[54]:gt[70] -> bb_iou=0.806 | pix_iou=0.753\n",
      "ws[55]:gt[01] -> bb_iou=0.709 | pix_iou=0.716\n",
      "ws[58]:gt[02] -> bb_iou=0.747 | pix_iou=0.709\n",
      "ws[59]:gt[42] -> bb_iou=0.944 | pix_iou=0.815\n",
      "ws[60]:gt[08] -> bb_iou=0.784 | pix_iou=0.763\n",
      "ws[61]:gt[29] -> bb_iou=0.754 | pix_iou=0.667\n",
      "ws[62]:gt[18] -> bb_iou=0.626 | pix_iou=0.594\n",
      "ws[63]:gt[74] -> bb_iou=0.581 | pix_iou=0.599\n",
      "ws[65]:gt[27] -> bb_iou=0.697 | pix_iou=0.675\n",
      "ws[67]:gt[43] -> bb_iou=0.510 | pix_iou=0.568\n",
      "ws[68]:gt[05] -> bb_iou=0.777 | pix_iou=0.791\n",
      "ws[69]:gt[03] -> bb_iou=0.726 | pix_iou=0.617\n",
      "ws[70]:gt[61] -> bb_iou=0.614 | pix_iou=0.634\n",
      "ws[72]:gt[64] -> bb_iou=0.822 | pix_iou=0.723\n"
     ]
    }
   ],
   "source": [
    "for i, bb_a in enumerate(ws_prediction['rois']):\n",
    "    for j, bb_b in enumerate(rois):\n",
    "        iou = bbox_iou(bb_a, bb_b)\n",
    "        if iou > 0.5 and iou <= 1:\n",
    "            pix_iou = pixel_iou(ws_prediction['masks'][:,:,i], gt_masks[:,:,j])\n",
    "            print('ws[{:02d}]:gt[{:02d}] -> bb_iou={:0.3f} | pix_iou={:0.3f}'.format(i, j, iou, pix_iou))"
   ]
  },
  {
   "cell_type": "code",
   "execution_count": 36,
   "metadata": {},
   "outputs": [
    {
     "name": "stdout",
     "output_type": "stream",
     "text": [
      "[ 52 163  90 197]\n",
      "0.9998505\n"
     ]
    },
    {
     "data": {
      "image/png": "[encoded data removed]",
      "text/plain": [
       "<matplotlib.figure.Figure at 0x136eb9748>"
      ]
     },
     "metadata": {},
     "output_type": "display_data"
    }
   ],
   "source": [
    "plt.imshow(prediction['masks'][:,:,0])\n",
    "print(prediction['rois'][0])\n",
    "print(prediction['scores'][0])"
   ]
  },
  {
   "cell_type": "code",
   "execution_count": 37,
   "metadata": {},
   "outputs": [
    {
     "name": "stdout",
     "output_type": "stream",
     "text": [
      "1\n",
      "1\n",
      "(512, 512, 3)\n"
     ]
    }
   ],
   "source": [
    "print(np.max(prediction['masks'][:,:,2]))\n",
    "print(np.max(ag_prediction['masks'][:,:,4]))\n",
    "print((prediction['masks'][:,:,0].shape[0], prediction['masks'][:,:,0].shape[1], 3))"
   ]
  },
  {
   "cell_type": "code",
   "execution_count": 38,
   "metadata": {},
   "outputs": [
    {
     "name": "stdout",
     "output_type": "stream",
     "text": [
      "[238 310 263 329]\n",
      "0.96761596\n"
     ]
    },
    {
     "data": {
      "image/png": "[encoded data removed]",
      "text/plain": [
       "<matplotlib.figure.Figure at 0x137d13f98>"
      ]
     },
     "metadata": {},
     "output_type": "display_data"
    }
   ],
   "source": [
    "plt.imshow(ag_prediction['masks'][:,:,46])\n",
    "print(ag_prediction['rois'][46])\n",
    "print(ag_prediction['scores'][46])"
   ]
  },
  {
   "cell_type": "code",
   "execution_count": 39,
   "metadata": {},
   "outputs": [
    {
     "data": {
      "text/plain": [
       "<matplotlib.image.AxesImage at 0x1228adda0>"
      ]
     },
     "execution_count": 39,
     "metadata": {},
     "output_type": "execute_result"
    },
    {
     "data": {
      "image/png": "[encoded data removed]",
      "text/plain": [
       "<matplotlib.figure.Figure at 0x136efed68>"
      ]
     },
     "metadata": {},
     "output_type": "display_data"
    }
   ],
   "source": [
    "plt.imshow(gt_masks[:,:,45])"
   ]
  },
  {
   "cell_type": "code",
   "execution_count": 75,
   "metadata": {},
   "outputs": [
    {
     "ename": "IndexError",
     "evalue": "index 54 is out of bounds for axis 2 with size 10",
     "output_type": "error",
     "traceback": [
      "\u001b[0;31m---------------------------------------------------------------------------\u001b[0m",
      "\u001b[0;31mIndexError\u001b[0m                                Traceback (most recent call last)",
      "\u001b[0;32m<ipython-input-75-1ab13f6a92f8>\u001b[0m in \u001b[0;36m<module>\u001b[0;34m()\u001b[0m\n\u001b[1;32m      1\u001b[0m \u001b[0mi\u001b[0m \u001b[0;34m=\u001b[0m \u001b[0mnp\u001b[0m\u001b[0;34m.\u001b[0m\u001b[0mzeros\u001b[0m\u001b[0;34m(\u001b[0m\u001b[0;34m(\u001b[0m\u001b[0mprediction\u001b[0m\u001b[0;34m[\u001b[0m\u001b[0;34m'masks'\u001b[0m\u001b[0;34m]\u001b[0m\u001b[0;34m[\u001b[0m\u001b[0;34m:\u001b[0m\u001b[0;34m,\u001b[0m\u001b[0;34m:\u001b[0m\u001b[0;34m,\u001b[0m\u001b[0;36m0\u001b[0m\u001b[0;34m]\u001b[0m\u001b[0;34m.\u001b[0m\u001b[0mshape\u001b[0m\u001b[0;34m[\u001b[0m\u001b[0;36m0\u001b[0m\u001b[0;34m]\u001b[0m\u001b[0;34m,\u001b[0m \u001b[0mprediction\u001b[0m\u001b[0;34m[\u001b[0m\u001b[0;34m'masks'\u001b[0m\u001b[0;34m]\u001b[0m\u001b[0;34m[\u001b[0m\u001b[0;34m:\u001b[0m\u001b[0;34m,\u001b[0m\u001b[0;34m:\u001b[0m\u001b[0;34m,\u001b[0m\u001b[0;36m0\u001b[0m\u001b[0;34m]\u001b[0m\u001b[0;34m.\u001b[0m\u001b[0mshape\u001b[0m\u001b[0;34m[\u001b[0m\u001b[0;36m1\u001b[0m\u001b[0;34m]\u001b[0m\u001b[0;34m,\u001b[0m \u001b[0;36m3\u001b[0m\u001b[0;34m)\u001b[0m\u001b[0;34m,\u001b[0m \u001b[0mdtype\u001b[0m\u001b[0;34m=\u001b[0m\u001b[0mnp\u001b[0m\u001b[0;34m.\u001b[0m\u001b[0muint8\u001b[0m\u001b[0;34m)\u001b[0m\u001b[0;34m\u001b[0m\u001b[0m\n\u001b[1;32m      2\u001b[0m \u001b[0mdiff\u001b[0m \u001b[0;34m=\u001b[0m \u001b[0mnp\u001b[0m\u001b[0;34m.\u001b[0m\u001b[0mabs\u001b[0m\u001b[0;34m(\u001b[0m\u001b[0mprediction\u001b[0m\u001b[0;34m[\u001b[0m\u001b[0;34m'masks'\u001b[0m\u001b[0;34m]\u001b[0m\u001b[0;34m[\u001b[0m\u001b[0;34m:\u001b[0m\u001b[0;34m,\u001b[0m\u001b[0;34m:\u001b[0m\u001b[0;34m,\u001b[0m\u001b[0;36m0\u001b[0m\u001b[0;34m]\u001b[0m \u001b[0;34m*\u001b[0m \u001b[0;36m255\u001b[0m \u001b[0;34m-\u001b[0m \u001b[0mws_prediction\u001b[0m\u001b[0;34m[\u001b[0m\u001b[0;34m'masks'\u001b[0m\u001b[0;34m]\u001b[0m\u001b[0;34m[\u001b[0m\u001b[0;34m:\u001b[0m\u001b[0;34m,\u001b[0m\u001b[0;34m:\u001b[0m\u001b[0;34m,\u001b[0m\u001b[0;36m0\u001b[0m\u001b[0;34m]\u001b[0m \u001b[0;34m*\u001b[0m \u001b[0;36m255\u001b[0m\u001b[0;34m)\u001b[0m\u001b[0;34m\u001b[0m\u001b[0m\n\u001b[0;32m----> 3\u001b[0;31m \u001b[0mi\u001b[0m\u001b[0;34m[\u001b[0m\u001b[0;34m:\u001b[0m\u001b[0;34m,\u001b[0m\u001b[0;34m:\u001b[0m\u001b[0;34m,\u001b[0m\u001b[0;36m0\u001b[0m\u001b[0;34m]\u001b[0m \u001b[0;34m=\u001b[0m \u001b[0mprediction\u001b[0m\u001b[0;34m[\u001b[0m\u001b[0;34m'masks'\u001b[0m\u001b[0;34m]\u001b[0m\u001b[0;34m[\u001b[0m\u001b[0;34m:\u001b[0m\u001b[0;34m,\u001b[0m\u001b[0;34m:\u001b[0m\u001b[0;34m,\u001b[0m\u001b[0;36m54\u001b[0m\u001b[0;34m]\u001b[0m \u001b[0;34m*\u001b[0m \u001b[0;36m255\u001b[0m\u001b[0;34m\u001b[0m\u001b[0m\n\u001b[0m\u001b[1;32m      4\u001b[0m \u001b[0mi\u001b[0m\u001b[0;34m[\u001b[0m\u001b[0;34m:\u001b[0m\u001b[0;34m,\u001b[0m\u001b[0;34m:\u001b[0m\u001b[0;34m,\u001b[0m\u001b[0;36m1\u001b[0m\u001b[0;34m]\u001b[0m \u001b[0;34m=\u001b[0m \u001b[0mws_prediction\u001b[0m\u001b[0;34m[\u001b[0m\u001b[0;34m'masks'\u001b[0m\u001b[0;34m]\u001b[0m\u001b[0;34m[\u001b[0m\u001b[0;34m:\u001b[0m\u001b[0;34m,\u001b[0m\u001b[0;34m:\u001b[0m\u001b[0;34m,\u001b[0m\u001b[0;36m42\u001b[0m\u001b[0;34m]\u001b[0m \u001b[0;34m*\u001b[0m \u001b[0;36m255\u001b[0m\u001b[0;34m\u001b[0m\u001b[0m\n\u001b[1;32m      5\u001b[0m \u001b[0mi\u001b[0m\u001b[0;34m[\u001b[0m\u001b[0;34m:\u001b[0m\u001b[0;34m,\u001b[0m\u001b[0;34m:\u001b[0m\u001b[0;34m,\u001b[0m\u001b[0;36m2\u001b[0m\u001b[0;34m]\u001b[0m \u001b[0;34m=\u001b[0m \u001b[0mgt_masks\u001b[0m\u001b[0;34m[\u001b[0m\u001b[0;34m:\u001b[0m\u001b[0;34m,\u001b[0m\u001b[0;34m:\u001b[0m\u001b[0;34m,\u001b[0m\u001b[0;36m4\u001b[0m\u001b[0;34m]\u001b[0m \u001b[0;34m*\u001b[0m \u001b[0;36m255\u001b[0m\u001b[0;34m\u001b[0m\u001b[0m\n",
      "\u001b[0;31mIndexError\u001b[0m: index 54 is out of bounds for axis 2 with size 10"
     ]
    }
   ],
   "source": [
    "i = np.zeros((prediction['masks'][:,:,0].shape[0], prediction['masks'][:,:,0].shape[1], 3), dtype=np.uint8)\n",
    "diff = np.abs(prediction['masks'][:,:,0] * 255 - ws_prediction['masks'][:,:,0] * 255)\n",
    "i[:,:,0] = prediction['masks'][:,:,54] * 255\n",
    "i[:,:,1] = ws_prediction['masks'][:,:,42] * 255\n",
    "i[:,:,2] = gt_masks[:,:,4] * 255\n",
    "\n",
    "fig, axarr = plt.subplots(nrows=1, ncols=1, figsize=(10,15))\n",
    "#axarr.imshow(i)\n",
    "axarr.imshow(i, cmap='jet')"
   ]
  },
  {
   "cell_type": "code",
   "execution_count": 41,
   "metadata": {},
   "outputs": [
    {
     "name": "stdout",
     "output_type": "stream",
     "text": [
      "orig AP = 0.45947389719567217\n",
      "ws   AP = 0.3592927157174162\n",
      "ens  AP = 0.4824838497403823\n"
     ]
    }
   ],
   "source": [
    "new_masks = []\n",
    "\n",
    "for i, bb_a in enumerate(prediction['rois']):\n",
    "    for j, bb_b in enumerate(ws_prediction['rois']):\n",
    "        iou = bbox_iou(bb_a, bb_b)\n",
    "        if iou >= 0.5 and iou <= 1:\n",
    "            if prediction['scores'][i] >= 0.9 and ws_prediction['scores'][j] >= 0.9:\n",
    "                new_masks.append(prediction['masks'][:,:,i] | ws_prediction['masks'][:,:,j])\n",
    "            elif prediction['scores'][i] >= 0.9:\n",
    "                new_masks.append(prediction['masks'][:,:,i])\n",
    "            elif ws_prediction['scores'][j] >= 0.9:\n",
    "                new_masks.append(ws_prediction['masks'][:,:,j])\n",
    "            \n",
    "new_masks = np.asarray(new_masks)\n",
    "new_masks = np.moveaxis(new_masks, 0, 2)\n",
    "\n",
    "print('orig AP = {}'.format(dsbhelper.compute_ap(gt_masks, prediction['masks'])))\n",
    "print('ws   AP = {}'.format(dsbhelper.compute_ap(gt_masks, ws_prediction['masks'])))\n",
    "print('ens  AP = {}'.format(dsbhelper.compute_ap(gt_masks, new_masks)))"
   ]
  },
  {
   "cell_type": "code",
   "execution_count": 42,
   "metadata": {},
   "outputs": [
    {
     "name": "stdout",
     "output_type": "stream",
     "text": [
      "orig AP = 0.45947389719567217\n",
      "rw   AP = 0.38049649807669483\n",
      "ens  AP = 0.49319452145301657\n"
     ]
    }
   ],
   "source": [
    "new_masks = []\n",
    "\n",
    "for i, bb_a in enumerate(prediction['rois']):\n",
    "    for j, bb_b in enumerate(rw_prediction['rois']):\n",
    "        iou = bbox_iou(bb_a, bb_b)\n",
    "        if iou >= 0.5 and iou <= 1:\n",
    "            pix_iou = pixel_iou(prediction['masks'][:,:,i], rw_prediction['masks'][:,:,j])\n",
    "            if pix_iou >= 0.5 and pix_iou <= 1:\n",
    "                if prediction['scores'][i] >= 0.9 and rw_prediction['scores'][j] >= 0.9:\n",
    "                    new_masks.append(prediction['masks'][:,:,i] | rw_prediction['masks'][:,:,j])\n",
    "                elif prediction['scores'][i] >= 0.9:\n",
    "                    new_masks.append(prediction['masks'][:,:,i])\n",
    "                elif rw_prediction['scores'][j] >= 0.9:\n",
    "                    new_masks.append(rw_prediction['masks'][:,:,j])\n",
    "            \n",
    "new_masks = np.asarray(new_masks)\n",
    "new_masks = np.moveaxis(new_masks, 0, 2)\n",
    "\n",
    "print('orig AP = {}'.format(dsbhelper.compute_ap(gt_masks, prediction['masks'])))\n",
    "print('rw   AP = {}'.format(dsbhelper.compute_ap(gt_masks, rw_prediction['masks'])))\n",
    "print('ens  AP = {}'.format(dsbhelper.compute_ap(gt_masks, new_masks)))"
   ]
  },
  {
   "cell_type": "code",
   "execution_count": 43,
   "metadata": {},
   "outputs": [
    {
     "name": "stdout",
     "output_type": "stream",
     "text": [
      "orig AP = 0.45947389719567217\n",
      "ag   AP = 0.23864065340194474\n",
      "ens  AP = 0.44122255432738317\n"
     ]
    }
   ],
   "source": [
    "new_masks = []\n",
    "\n",
    "for i, bb_a in enumerate(prediction['rois']):\n",
    "    for j, bb_b in enumerate(ag_prediction['rois']):\n",
    "        iou = bbox_iou(bb_a, bb_b)\n",
    "        if iou >= 0.5 and iou <= 1:\n",
    "            pix_iou = pixel_iou(prediction['masks'][:,:,i], ag_prediction['masks'][:,:,j])\n",
    "            if pix_iou >= 0.5 and pix_iou <= 1:\n",
    "                if prediction['scores'][i] >= 0.9 and ag_prediction['scores'][j] >= 0.9:\n",
    "                    new_masks.append(prediction['masks'][:,:,i] | ag_prediction['masks'][:,:,j])\n",
    "                elif prediction['scores'][i] >= 0.9:\n",
    "                    new_masks.append(prediction['masks'][:,:,i])\n",
    "                elif ag_prediction['scores'][j] >= 0.9:\n",
    "                    new_masks.append(ag_prediction['masks'][:,:,j])\n",
    "            \n",
    "new_masks = np.asarray(new_masks)\n",
    "new_masks = np.moveaxis(new_masks, 0, 2)\n",
    "\n",
    "print('orig AP = {}'.format(dsbhelper.compute_ap(gt_masks, prediction['masks'])))\n",
    "print('ag   AP = {}'.format(dsbhelper.compute_ap(gt_masks, ag_prediction['masks'])))\n",
    "print('ens  AP = {}'.format(dsbhelper.compute_ap(gt_masks, new_masks)))"
   ]
  },
  {
   "cell_type": "code",
   "execution_count": 44,
   "metadata": {},
   "outputs": [
    {
     "name": "stdout",
     "output_type": "stream",
     "text": [
      "orig AP = 0.45947389719567217\n",
      "am   AP = 0.30796974071566346\n",
      "ens  AP = 0.4501696892942116\n"
     ]
    }
   ],
   "source": [
    "new_masks = []\n",
    "\n",
    "for i, bb_a in enumerate(prediction['rois']):\n",
    "    for j, bb_b in enumerate(am_prediction['rois']):\n",
    "        iou = bbox_iou(bb_a, bb_b)\n",
    "        if iou >= 0.5 and iou <= 1:\n",
    "            pix_iou = pixel_iou(prediction['masks'][:,:,i], am_prediction['masks'][:,:,j])\n",
    "            if pix_iou >= 0.5 and pix_iou <= 1:\n",
    "                if prediction['scores'][i] >= 0.9 and am_prediction['scores'][j] >= 0.9:\n",
    "                    new_masks.append(prediction['masks'][:,:,i] | am_prediction['masks'][:,:,j])\n",
    "                elif prediction['scores'][i] >= 0.9:\n",
    "                    new_masks.append(prediction['masks'][:,:,i])\n",
    "                elif am_prediction['scores'][j] >= 0.9:\n",
    "                    new_masks.append(am_prediction['masks'][:,:,j])\n",
    "            \n",
    "new_masks = np.asarray(new_masks)\n",
    "new_masks = np.moveaxis(new_masks, 0, 2)\n",
    "\n",
    "print('orig AP = {}'.format(dsbhelper.compute_ap(gt_masks, prediction['masks'])))\n",
    "print('am   AP = {}'.format(dsbhelper.compute_ap(gt_masks, am_prediction['masks'])))\n",
    "print('ens  AP = {}'.format(dsbhelper.compute_ap(gt_masks, new_masks)))"
   ]
  },
  {
   "cell_type": "code",
   "execution_count": 45,
   "metadata": {},
   "outputs": [],
   "source": [
    "# ----------------------------------------------------------------------------------------\n",
    "# Builds a dict of masks from each of 5 models for a given image and its predictions\n",
    "# ----------------------------------------------------------------------------------------\n",
    "def get_mask_lookup(pd, ws, rw, ag, am):    \n",
    "    \n",
    "    # there is one roi per mask, this variable is just for readability\n",
    "    mask_count = pd['rois'].shape[0]\n",
    "\n",
    "    # create a dictionary with a row for each mask in a prediction set\n",
    "    mask_lookup = dict()\n",
    "    mask_lookup['pd'] = np.zeros((mask_count), dtype=np.int8)\n",
    "    mask_lookup['ws'] = np.zeros((mask_count), dtype=np.int8)\n",
    "    mask_lookup['rw'] = np.zeros((mask_count), dtype=np.int8)\n",
    "    mask_lookup['ag'] = np.zeros((mask_count), dtype=np.int8)\n",
    "    mask_lookup['am'] = np.zeros((mask_count), dtype=np.int8)\n",
    "    \n",
    "\n",
    "    # the prediction (pd) element is the base model and is just a sequential list\n",
    "    for i in range(mask_count):\n",
    "        mask_lookup['pd'][i] = i\n",
    "\n",
    "    # find the mask in (watershed) ws for each mask where the bbox iou is >= 0.5\n",
    "    for i in range(mask_count):\n",
    "        for j, bbox in enumerate(ws['rois']):\n",
    "            if bbox_iou(pd['rois'][i], bbox) >= 0.5:\n",
    "                mask_lookup['ws'][i] = j\n",
    "\n",
    "    # find the mask in (random walk) rw for each mask where the bbox iou is >= 0.5\n",
    "    for i in range(mask_count):\n",
    "        for j, bbox in enumerate(rw['rois']):\n",
    "            if bbox_iou(pd['rois'][i], bbox) >= 0.5:\n",
    "                mask_lookup['rw'][i] = j\n",
    "\n",
    "    # find the mask in (active contours with gaussian blur) ag for each mask where the bbox iou is >= 0.5\n",
    "    for i in range(mask_count):\n",
    "        for j, bbox in enumerate(ag['rois']):\n",
    "            if bbox_iou(pd['rois'][i], bbox) >= 0.5:\n",
    "                mask_lookup['ag'][i] = j\n",
    "\n",
    "    # find the mask in (active contours with median blur) am for each mask where the bbox iou is >= 0.5\n",
    "    for i in range(mask_count):\n",
    "        for j, bbox in enumerate(am['rois']):\n",
    "            if bbox_iou(pd['rois'][i], bbox) >= 0.5:\n",
    "                mask_lookup['am'][i] = j\n",
    "\n",
    "    return mask_lookup\n",
    "\n",
    "mask_lookup = get_mask_lookup(prediction, ws_prediction, rw_prediction, ag_prediction, am_prediction)"
   ]
  },
  {
   "cell_type": "code",
   "execution_count": 46,
   "metadata": {},
   "outputs": [
    {
     "name": "stdout",
     "output_type": "stream",
     "text": [
      "pd:00 -> ws:04, rw:13, ag:25, am:40\n",
      "pd:01 -> ws:00, rw:00, ag:01, am:21\n",
      "pd:02 -> ws:05, rw:19, ag:13, am:24\n",
      "pd:03 -> ws:07, rw:15, ag:24, am:67\n",
      "pd:04 -> ws:06, rw:02, ag:42, am:15\n",
      "pd:05 -> ws:03, rw:03, ag:03, am:00\n",
      "pd:06 -> ws:14, rw:09, ag:06, am:31\n",
      "pd:07 -> ws:02, rw:08, ag:48, am:30\n",
      "pd:08 -> ws:26, rw:05, ag:53, am:34\n",
      "pd:09 -> ws:40, rw:40, ag:17, am:05\n",
      "pd:10 -> ws:12, rw:18, ag:05, am:23\n",
      "pd:11 -> ws:13, rw:10, ag:04, am:32\n",
      "pd:12 -> ws:19, rw:43, ag:23, am:65\n",
      "pd:13 -> ws:09, rw:04, ag:09, am:18\n",
      "pd:14 -> ws:16, rw:14, ag:14, am:25\n",
      "pd:15 -> ws:08, rw:24, ag:21, am:02\n",
      "pd:16 -> ws:21, rw:11, ag:07, am:19\n",
      "pd:17 -> ws:20, rw:25, ag:16, am:12\n",
      "pd:18 -> ws:10, rw:16, ag:41, am:09\n",
      "pd:19 -> ws:32, rw:62, ag:65, am:54\n",
      "pd:20 -> ws:29, rw:20, ag:20, am:16\n",
      "pd:21 -> ws:17, rw:27, ag:12, am:08\n",
      "pd:22 -> ws:22, rw:21, ag:37, am:53\n",
      "pd:23 -> ws:01, rw:17, ag:10, am:01\n",
      "pd:24 -> ws:24, rw:07, ag:39, am:06\n",
      "pd:25 -> ws:28, rw:34, ag:11, am:45\n",
      "pd:26 -> ws:18, rw:06, ag:02, am:17\n",
      "pd:27 -> ws:23, rw:12, ag:00, am:03\n",
      "pd:28 -> ws:37, rw:45, ag:67, am:68\n",
      "pd:29 -> ws:15, rw:01, ag:54, am:20\n",
      "pd:30 -> ws:41, rw:26, ag:35, am:33\n",
      "pd:31 -> ws:27, rw:35, ag:33, am:13\n",
      "pd:32 -> ws:39, rw:39, ag:29, am:22\n",
      "pd:33 -> ws:00, rw:56, ag:00, am:55\n",
      "pd:34 -> ws:46, rw:37, ag:44, am:35\n",
      "pd:35 -> ws:68, rw:57, ag:31, am:39\n",
      "pd:36 -> ws:31, rw:31, ag:15, am:42\n",
      "pd:37 -> ws:30, rw:22, ag:22, am:14\n",
      "pd:38 -> ws:25, rw:23, ag:18, am:10\n",
      "pd:39 -> ws:36, rw:41, ag:50, am:43\n",
      "pd:40 -> ws:48, rw:29, ag:60, am:58\n",
      "pd:41 -> ws:61, rw:48, ag:32, am:41\n",
      "pd:42 -> ws:51, rw:32, ag:27, am:27\n",
      "pd:43 -> ws:47, rw:36, ag:00, am:72\n",
      "pd:44 -> ws:45, rw:42, ag:49, am:28\n",
      "pd:45 -> ws:34, rw:53, ag:38, am:36\n",
      "pd:46 -> ws:38, rw:65, ag:00, am:70\n",
      "pd:47 -> ws:11, rw:33, ag:63, am:29\n",
      "pd:48 -> ws:35, rw:28, ag:34, am:38\n",
      "pd:49 -> ws:44, rw:50, ag:08, am:26\n",
      "pd:50 -> ws:60, rw:54, ag:30, am:44\n",
      "pd:51 -> ws:33, rw:51, ag:19, am:11\n",
      "pd:52 -> ws:43, rw:44, ag:43, am:64\n",
      "pd:53 -> ws:70, rw:55, ag:00, am:52\n",
      "pd:54 -> ws:42, rw:46, ag:36, am:07\n",
      "pd:55 -> ws:75, rw:68, ag:00, am:00\n",
      "pd:56 -> ws:63, rw:61, ag:40, am:50\n",
      "pd:57 -> ws:54, rw:47, ag:59, am:63\n",
      "pd:58 -> ws:55, rw:30, ag:00, am:00\n",
      "pd:59 -> ws:59, rw:72, ag:52, am:60\n",
      "pd:60 -> ws:52, rw:67, ag:55, am:46\n",
      "pd:61 -> ws:00, rw:00, ag:00, am:00\n",
      "pd:62 -> ws:49, rw:00, ag:26, am:00\n",
      "pd:63 -> ws:72, rw:64, ag:00, am:00\n",
      "pd:64 -> ws:53, rw:49, ag:47, am:59\n",
      "pd:65 -> ws:00, rw:73, ag:00, am:00\n",
      "pd:66 -> ws:67, rw:38, ag:45, am:57\n",
      "pd:67 -> ws:56, rw:66, ag:28, am:47\n",
      "pd:68 -> ws:65, rw:63, ag:56, am:00\n",
      "pd:69 -> ws:58, rw:00, ag:51, am:66\n",
      "pd:70 -> ws:50, rw:58, ag:46, am:49\n",
      "pd:71 -> ws:00, rw:74, ag:00, am:62\n",
      "pd:72 -> ws:57, rw:59, ag:62, am:00\n",
      "pd:73 -> ws:69, rw:60, ag:00, am:51\n",
      "pd:74 -> ws:00, rw:00, ag:00, am:00\n",
      "pd:75 -> ws:66, rw:71, ag:61, am:00\n",
      "pd:76 -> ws:64, rw:70, ag:64, am:56\n",
      "pd:77 -> ws:62, rw:69, ag:00, am:00\n",
      "pd:78 -> ws:00, rw:75, ag:00, am:00\n",
      "pd:79 -> ws:00, rw:00, ag:00, am:00\n"
     ]
    }
   ],
   "source": [
    "# \n",
    "for i in range(prediction['rois'].shape[0]):\n",
    "    print('pd:{:02d} -> ws:{:02d}, rw:{:02d}, ag:{:02d}, am:{:02d}'.format(mask_lookup['pd'][i],\n",
    "                                                                           mask_lookup['ws'][i],\n",
    "                                                                           mask_lookup['rw'][i],\n",
    "                                                                           mask_lookup['ag'][i],\n",
    "                                                                           mask_lookup['am'][i]))"
   ]
  },
  {
   "cell_type": "code",
   "execution_count": 47,
   "metadata": {},
   "outputs": [
    {
     "name": "stdout",
     "output_type": "stream",
     "text": [
      "orig AP = 0.45947389719567217\n",
      "ws   AP = 0.3592927157174162\n",
      "rw   AP = 0.38049649807669483\n",
      "ag   AP = 0.23864065340194474\n",
      "am   AP = 0.30796974071566346\n",
      "ens  AP = 0.42482134200283295\n"
     ]
    }
   ],
   "source": [
    "# ----------------------------------------------------------\n",
    "# ensembles the masks of 5 models into a final prediction\n",
    "# ----------------------------------------------------------\n",
    "def ensemble_masks(pd, ws, rw, ag, am):\n",
    "    \n",
    "    # get a mask look up dict\n",
    "    mask_lookup = get_mask_lookup(pd, ws, rw, ag, am)\n",
    "    \n",
    "    # one mask per roi (this is for readability)\n",
    "    mask_count = pd['rois'].shape[0]\n",
    "    \n",
    "    # list to save masks once they have been ensembled\n",
    "    new_masks = []\n",
    "    \n",
    "    # loop through each mask and ensemble them together\n",
    "    for i in range(mask_count):\n",
    "\n",
    "        # the pd dictionary contains the base model predictions, begin with that mask\n",
    "        current_mask = pd['masks'][:,:,i]\n",
    "\n",
    "        # provided the pixel iou is >= 0.5 and the mask scores are >=0.9, then \"or\" the masks together\n",
    "        # do that for each of the models\n",
    "        if pixel_iou(pd['masks'][:, : ,i], ws['masks'][:, :, mask_lookup['ws'][i]]) >= 0.5:\n",
    "            if pd['scores'][i] >= 0.9 and ws['scores'][mask_lookup['ws'][i]] >= 0.9:\n",
    "                current_mask = current_mask | ws_prediction['masks'][:, :, mask_lookup['ws'][i]]\n",
    "\n",
    "        if pixel_iou(pd['masks'][:, : ,i], rw['masks'][:, :, mask_lookup['rw'][i]]) >= 0.5:\n",
    "            if pd['scores'][i] >= 0.9 and rw['scores'][mask_lookup['rw'][i]] >= 0.9:\n",
    "                current_mask = current_mask | rw_prediction['masks'][:, :, mask_lookup['rw'][i]]\n",
    "\n",
    "        if pixel_iou(pd['masks'][:, : ,i], ag['masks'][:, :, mask_lookup['ag'][i]]) >= 0.5:\n",
    "            if pd['scores'][i] >= 0.9 and ag['scores'][mask_lookup['ag'][i]] >= 0.9:\n",
    "                current_mask = current_mask | ag_prediction['masks'][:, :, mask_lookup['ag'][i]]\n",
    "\n",
    "        if pixel_iou(pd['masks'][:, : ,i], am['masks'][:, :, mask_lookup['am'][i]]) >= 0.5:\n",
    "            if pd['scores'][i] >= 0.9 and am['scores'][mask_lookup['am'][i]] >= 0.9:\n",
    "                current_mask = current_mask | am_prediction['masks'][:, :, mask_lookup['am'][i]]\n",
    "\n",
    "        new_masks.append(current_mask)\n",
    "\n",
    "    new_masks = np.asarray(new_masks)\n",
    "    new_masks = np.moveaxis(new_masks, 0, 2)\n",
    "    \n",
    "    return new_masks\n",
    "\n",
    "new_masks = ensemble_masks(prediction, ws_prediction, rw_prediction, ag_prediction, am_prediction)\n",
    "print('orig AP = {}'.format(dsbhelper.compute_ap(gt_masks, prediction['masks'])))\n",
    "print('ws   AP = {}'.format(dsbhelper.compute_ap(gt_masks, ws_prediction['masks'])))\n",
    "print('rw   AP = {}'.format(dsbhelper.compute_ap(gt_masks, rw_prediction['masks'])))\n",
    "print('ag   AP = {}'.format(dsbhelper.compute_ap(gt_masks, ag_prediction['masks'])))\n",
    "print('am   AP = {}'.format(dsbhelper.compute_ap(gt_masks, am_prediction['masks'])))\n",
    "print('ens  AP = {}'.format(dsbhelper.compute_ap(gt_masks, new_masks)))"
   ]
  },
  {
   "cell_type": "code",
   "execution_count": null,
   "metadata": {},
   "outputs": [],
   "source": []
  }
 ],
 "metadata": {
  "kernelspec": {
   "display_name": "Python 3",
   "language": "python",
   "name": "python3"
  },
  "language_info": {
   "codemirror_mode": {
    "name": "ipython",
    "version": 3
   },
   "file_extension": ".py",
   "mimetype": "text/x-python",
   "name": "python",
   "nbconvert_exporter": "python",
   "pygments_lexer": "ipython3",
   "version": "3.5.3"
  }
 },
 "nbformat": 4,
 "nbformat_minor": 2
}
