{
 "cells": [
  {
   "cell_type": "code",
   "execution_count": 1,
   "metadata": {},
   "outputs": [
    {
     "name": "stderr",
     "output_type": "stream",
     "text": [
      "/Users/farrar/py3/lib/python3.5/site-packages/h5py/__init__.py:36: FutureWarning: Conversion of the second argument of issubdtype from `float` to `np.floating` is deprecated. In future, it will be treated as `np.float64 == np.dtype(float).type`.\n",
      "  from ._conv import register_converters as _register_converters\n",
      "Using TensorFlow backend.\n"
     ]
    }
   ],
   "source": [
    "# get imports\n",
    "import nuclei\n",
    "import dsbhelper\n",
    "import model as modellib\n",
    "import numpy as np\n",
    "import random\n",
    "from matplotlib import pyplot as plt"
   ]
  },
  {
   "cell_type": "code",
   "execution_count": 2,
   "metadata": {},
   "outputs": [],
   "source": [
    "# define constants\n",
    "local_train_data_path = 'stage1_train'"
   ]
  },
  {
   "cell_type": "code",
   "execution_count": 3,
   "metadata": {},
   "outputs": [],
   "source": [
    "# configure the trainer for inference\n",
    "config = nuclei.InferenceConfig()"
   ]
  },
  {
   "cell_type": "code",
   "execution_count": 4,
   "metadata": {},
   "outputs": [],
   "source": [
    "# set up the dataset and load validate data\n",
    "dataset_val = nuclei.NucleiDataset()\n",
    "dataset_val.load_data(local_train_data_path, mode='validate', filter_ids=dsbhelper.validation_set)\n",
    "dataset_val.prepare()\n"
   ]
  },
  {
   "cell_type": "code",
   "execution_count": 5,
   "metadata": {},
   "outputs": [],
   "source": [
    "# load the model\n",
    "local_model_folder = './model'\n",
    "model = modellib.MaskRCNN(mode=\"inference\", config=config, model_dir=local_model_folder)\n"
   ]
  },
  {
   "cell_type": "code",
   "execution_count": 6,
   "metadata": {},
   "outputs": [],
   "source": [
    "# load trained weights\n",
    "model.load_weights('./model/mask_rcnn.h5', by_name=True)"
   ]
  },
  {
   "cell_type": "code",
   "execution_count": 62,
   "metadata": {},
   "outputs": [
    {
     "name": "stdout",
     "output_type": "stream",
     "text": [
      "e5a7b8a9924b26b3abf039255a8a3bb00258f4966f68ff3349560b4350af9367\n"
     ]
    }
   ],
   "source": [
    "# pick a specimen\n",
    "image_id = random.choice(dataset_val.image_ids)\n",
    "#image_id = 1\n",
    "image_data = dataset_val.get_info(image_id)\n",
    "print(image_data['specimen_id'])"
   ]
  },
  {
   "cell_type": "code",
   "execution_count": 63,
   "metadata": {},
   "outputs": [
    {
     "name": "stdout",
     "output_type": "stream",
     "text": [
      "(512, 512, 3)\n",
      "(512, 512, 20)\n"
     ]
    }
   ],
   "source": [
    "# get ground truth data\n",
    "original_image, _, \\\n",
    "class_ids, \\\n",
    "rois,\\\n",
    "masks = modellib.load_image_gt(dataset_val, config, image_id, use_mini_mask=False)\n",
    "print(original_image.shape)\n",
    "print(masks.shape)"
   ]
  },
  {
   "cell_type": "code",
   "execution_count": 64,
   "metadata": {},
   "outputs": [
    {
     "name": "stdout",
     "output_type": "stream",
     "text": [
      "Processing 1 images\n",
      "image                    shape: (512, 512, 3)         min:    0.00000  max:   44.00000\n",
      "molded_images            shape: (1, 512, 512, 3)      min:    0.00000  max:   44.00000\n",
      "image_metas              shape: (1, 10)               min:    0.00000  max:  512.00000\n"
     ]
    }
   ],
   "source": [
    "# run inference on the same image\n",
    "p = model.detect([original_image], verbose=1)\n",
    "prediction = p[0]\n"
   ]
  },
  {
   "cell_type": "code",
   "execution_count": 65,
   "metadata": {},
   "outputs": [
    {
     "name": "stdout",
     "output_type": "stream",
     "text": [
      "[7, 13, 12, 15]\n"
     ]
    }
   ],
   "source": [
    "# get a list of masks that overlap\n",
    "overlapped_list = dsbhelper.get_overlap_list(prediction['masks'], prediction['rois'])\n",
    "print(overlapped_list)\n",
    "                                      "
   ]
  },
  {
   "cell_type": "code",
   "execution_count": 66,
   "metadata": {},
   "outputs": [
    {
     "name": "stdout",
     "output_type": "stream",
     "text": [
      "0:(202, 282)\n",
      "1:(202, 283)\n",
      "2:(202, 284)\n",
      "3:(202, 285)\n",
      "4:(202, 286)\n",
      "5:(202, 287)\n",
      "6:(202, 288)\n",
      "7:(202, 289)\n",
      "8:(202, 290)\n",
      "9:(203, 282)\n",
      "10:(203, 283)\n",
      "11:(203, 284)\n",
      "12:(203, 285)\n",
      "13:(203, 286)\n",
      "14:(203, 287)\n",
      "15:(203, 288)\n",
      "16:(203, 289)\n",
      "17:(203, 290)\n",
      "18:(204, 280)\n",
      "19:(204, 281)\n",
      "20:(204, 282)\n",
      "21:(204, 283)\n",
      "22:(204, 284)\n",
      "23:(204, 285)\n",
      "24:(204, 286)\n",
      "25:(204, 287)\n",
      "26:(204, 288)\n",
      "27:(204, 289)\n",
      "28:(204, 290)\n",
      "29:(204, 291)\n",
      "30:(204, 292)\n",
      "31:(204, 293)\n",
      "32:(204, 294)\n",
      "33:(204, 297)\n",
      "34:(205, 279)\n",
      "35:(205, 280)\n",
      "36:(205, 281)\n",
      "37:(205, 282)\n",
      "38:(205, 283)\n",
      "39:(205, 284)\n",
      "40:(205, 285)\n",
      "41:(205, 286)\n",
      "42:(205, 287)\n",
      "43:(205, 288)\n",
      "44:(205, 289)\n",
      "45:(205, 290)\n",
      "46:(205, 291)\n",
      "47:(205, 292)\n",
      "48:(205, 293)\n",
      "49:(205, 294)\n",
      "50:(205, 295)\n",
      "51:(206, 279)\n",
      "52:(206, 280)\n",
      "53:(206, 281)\n",
      "54:(206, 282)\n",
      "55:(206, 283)\n",
      "56:(206, 284)\n",
      "57:(206, 285)\n",
      "58:(206, 286)\n",
      "59:(206, 287)\n",
      "60:(206, 288)\n",
      "61:(206, 289)\n",
      "62:(206, 290)\n",
      "63:(206, 291)\n",
      "64:(206, 292)\n",
      "65:(206, 293)\n",
      "66:(206, 294)\n",
      "67:(207, 279)\n",
      "68:(207, 280)\n",
      "69:(207, 281)\n",
      "70:(207, 282)\n",
      "71:(207, 283)\n",
      "72:(207, 284)\n",
      "73:(207, 285)\n",
      "74:(207, 286)\n",
      "75:(207, 287)\n",
      "76:(207, 288)\n",
      "77:(207, 289)\n",
      "78:(207, 290)\n",
      "79:(207, 291)\n",
      "80:(207, 292)\n",
      "81:(207, 293)\n",
      "82:(208, 277)\n",
      "83:(208, 278)\n",
      "84:(208, 279)\n",
      "85:(208, 280)\n",
      "86:(208, 281)\n",
      "87:(208, 282)\n",
      "88:(208, 283)\n",
      "89:(208, 284)\n",
      "90:(208, 285)\n",
      "91:(208, 286)\n",
      "92:(208, 287)\n",
      "93:(208, 288)\n",
      "94:(208, 289)\n",
      "95:(208, 290)\n",
      "96:(208, 291)\n",
      "97:(208, 292)\n",
      "98:(208, 293)\n",
      "99:(209, 279)\n",
      "100:(209, 280)\n",
      "101:(209, 281)\n",
      "102:(209, 282)\n",
      "103:(209, 283)\n",
      "104:(209, 284)\n",
      "105:(209, 285)\n",
      "106:(209, 286)\n",
      "107:(209, 287)\n",
      "108:(209, 288)\n",
      "109:(209, 289)\n",
      "110:(209, 290)\n",
      "111:(209, 291)\n",
      "112:(209, 292)\n",
      "113:(209, 293)\n",
      "114:(210, 279)\n",
      "115:(210, 280)\n",
      "116:(210, 281)\n",
      "117:(210, 282)\n",
      "118:(210, 283)\n",
      "119:(210, 284)\n",
      "120:(210, 285)\n",
      "121:(210, 286)\n",
      "122:(210, 287)\n",
      "123:(210, 288)\n",
      "124:(210, 289)\n",
      "125:(210, 290)\n",
      "126:(210, 291)\n",
      "127:(210, 292)\n",
      "128:(210, 293)\n",
      "129:(211, 279)\n",
      "130:(211, 280)\n",
      "131:(211, 281)\n",
      "132:(211, 282)\n",
      "133:(211, 283)\n",
      "134:(211, 284)\n",
      "135:(211, 285)\n",
      "136:(211, 286)\n",
      "137:(211, 287)\n",
      "138:(211, 288)\n",
      "139:(211, 289)\n",
      "140:(211, 290)\n",
      "141:(211, 291)\n",
      "142:(211, 292)\n",
      "143:(212, 277)\n",
      "144:(212, 278)\n",
      "145:(212, 279)\n",
      "146:(212, 280)\n",
      "147:(212, 281)\n",
      "148:(212, 282)\n",
      "149:(212, 283)\n",
      "150:(212, 284)\n",
      "151:(212, 285)\n",
      "152:(212, 286)\n",
      "153:(212, 287)\n",
      "154:(212, 288)\n",
      "155:(212, 289)\n",
      "156:(212, 290)\n",
      "157:(212, 291)\n",
      "158:(213, 277)\n",
      "159:(213, 278)\n",
      "160:(213, 279)\n",
      "161:(213, 280)\n",
      "162:(213, 281)\n",
      "163:(213, 282)\n",
      "164:(213, 283)\n",
      "165:(213, 284)\n",
      "166:(213, 285)\n",
      "167:(213, 286)\n",
      "168:(213, 287)\n",
      "169:(213, 288)\n",
      "170:(213, 289)\n",
      "171:(213, 290)\n",
      "172:(213, 291)\n",
      "173:(214, 277)\n",
      "174:(214, 278)\n",
      "175:(214, 279)\n",
      "176:(214, 280)\n",
      "177:(214, 281)\n",
      "178:(214, 282)\n",
      "179:(214, 283)\n",
      "180:(214, 284)\n",
      "181:(214, 285)\n",
      "182:(214, 286)\n",
      "183:(214, 287)\n",
      "184:(214, 288)\n",
      "185:(214, 289)\n",
      "186:(214, 290)\n",
      "187:(214, 291)\n",
      "188:(215, 277)\n",
      "189:(215, 278)\n",
      "190:(215, 279)\n",
      "191:(215, 280)\n",
      "192:(215, 281)\n",
      "193:(215, 282)\n",
      "194:(215, 283)\n",
      "195:(215, 284)\n",
      "196:(215, 285)\n",
      "197:(215, 286)\n",
      "198:(215, 287)\n",
      "199:(215, 288)\n",
      "200:(215, 289)\n",
      "201:(215, 290)\n",
      "202:(215, 291)\n",
      "203:(216, 278)\n",
      "204:(216, 279)\n",
      "205:(216, 280)\n",
      "206:(216, 281)\n",
      "207:(216, 282)\n",
      "208:(216, 283)\n",
      "209:(216, 284)\n",
      "210:(216, 285)\n",
      "211:(216, 286)\n",
      "212:(216, 287)\n",
      "213:(216, 288)\n",
      "214:(216, 289)\n",
      "215:(216, 290)\n",
      "216:(217, 277)\n",
      "217:(217, 278)\n",
      "218:(217, 279)\n",
      "219:(217, 280)\n",
      "220:(217, 281)\n",
      "221:(217, 282)\n",
      "222:(217, 283)\n",
      "223:(217, 284)\n",
      "224:(217, 285)\n",
      "225:(217, 286)\n",
      "226:(217, 287)\n",
      "227:(217, 288)\n",
      "228:(217, 289)\n",
      "229:(217, 290)\n",
      "230:(218, 277)\n",
      "231:(218, 278)\n",
      "232:(218, 279)\n",
      "233:(218, 280)\n",
      "234:(218, 281)\n",
      "235:(218, 282)\n",
      "236:(218, 283)\n",
      "237:(218, 284)\n",
      "238:(218, 285)\n",
      "239:(218, 286)\n",
      "240:(218, 287)\n",
      "241:(218, 288)\n",
      "242:(218, 289)\n",
      "243:(218, 290)\n",
      "244:(219, 277)\n",
      "245:(219, 278)\n",
      "246:(219, 279)\n",
      "247:(219, 280)\n",
      "248:(219, 281)\n",
      "249:(219, 282)\n",
      "250:(219, 283)\n",
      "251:(219, 284)\n",
      "252:(219, 285)\n",
      "253:(219, 286)\n",
      "254:(219, 287)\n",
      "255:(219, 288)\n",
      "256:(219, 289)\n",
      "257:(219, 290)\n",
      "258:(220, 277)\n",
      "259:(220, 278)\n",
      "260:(220, 279)\n",
      "261:(220, 280)\n",
      "262:(220, 281)\n",
      "263:(220, 282)\n",
      "264:(220, 283)\n",
      "265:(220, 284)\n",
      "266:(220, 285)\n",
      "267:(220, 286)\n",
      "268:(220, 287)\n",
      "269:(220, 288)\n",
      "270:(220, 289)\n",
      "271:(221, 278)\n",
      "272:(221, 279)\n",
      "273:(221, 280)\n",
      "274:(221, 281)\n",
      "275:(221, 282)\n",
      "276:(221, 283)\n",
      "277:(221, 284)\n",
      "278:(221, 285)\n",
      "279:(221, 286)\n",
      "280:(221, 287)\n",
      "281:(221, 288)\n",
      "282:(221, 289)\n",
      "283:(222, 278)\n",
      "284:(222, 279)\n",
      "285:(222, 280)\n",
      "286:(222, 281)\n",
      "287:(222, 282)\n",
      "288:(222, 283)\n",
      "289:(222, 284)\n",
      "290:(222, 285)\n",
      "291:(222, 286)\n",
      "292:(222, 287)\n",
      "293:(222, 288)\n",
      "294:(222, 289)\n",
      "295:(223, 277)\n",
      "296:(223, 278)\n",
      "297:(223, 279)\n",
      "298:(223, 280)\n",
      "299:(223, 281)\n",
      "300:(223, 282)\n",
      "301:(223, 283)\n",
      "302:(223, 284)\n",
      "303:(223, 285)\n",
      "304:(223, 286)\n",
      "305:(223, 287)\n",
      "306:(223, 288)\n",
      "307:(224, 277)\n",
      "308:(224, 278)\n",
      "309:(224, 279)\n",
      "310:(224, 280)\n",
      "311:(224, 281)\n",
      "312:(224, 282)\n",
      "313:(224, 283)\n",
      "314:(224, 284)\n",
      "315:(224, 285)\n",
      "316:(224, 286)\n",
      "317:(224, 287)\n",
      "318:(224, 288)\n",
      "319:(225, 279)\n",
      "320:(225, 280)\n",
      "321:(225, 281)\n",
      "322:(225, 282)\n",
      "323:(225, 283)\n",
      "324:(225, 284)\n",
      "325:(225, 285)\n",
      "326:(225, 286)\n",
      "327:(225, 287)\n",
      "328:(225, 288)\n",
      "329:(226, 280)\n",
      "330:(226, 281)\n",
      "331:(226, 282)\n",
      "332:(226, 283)\n",
      "333:(226, 284)\n",
      "334:(226, 285)\n",
      "335:(226, 286)\n",
      "336:(226, 287)\n",
      "337:(227, 280)\n",
      "338:(227, 281)\n",
      "339:(227, 282)\n",
      "340:(227, 283)\n",
      "341:(227, 284)\n",
      "342:(227, 285)\n",
      "343:(227, 286)\n",
      "344:(227, 287)\n",
      "345:(228, 280)\n",
      "346:(228, 281)\n",
      "347:(228, 282)\n",
      "348:(228, 283)\n",
      "349:(228, 284)\n",
      "350:(228, 285)\n",
      "351:(228, 286)\n",
      "352:(228, 287)\n",
      "353:(229, 280)\n",
      "354:(229, 281)\n",
      "355:(229, 282)\n",
      "356:(229, 283)\n",
      "357:(229, 284)\n",
      "358:(229, 285)\n",
      "359:(229, 286)\n",
      "360:(230, 281)\n",
      "361:(230, 282)\n",
      "362:(230, 283)\n",
      "363:(230, 284)\n",
      "364:(231, 283)\n",
      "365:(231, 284)\n",
      "366:(232, 283)\n",
      "367:(233, 281)\n",
      "368:(233, 282)\n",
      "369:(233, 283)\n",
      "370:(349, 334)\n",
      "371:(349, 335)\n",
      "372:(350, 335)\n",
      "373:(350, 336)\n",
      "374:(351, 337)\n",
      "375:(351, 338)\n",
      "376:(352, 337)\n",
      "377:(352, 338)\n",
      "378:(352, 339)\n",
      "379:(353, 339)\n",
      "380:(353, 340)\n"
     ]
    }
   ],
   "source": [
    "# find mask pixels with overlap\n",
    "sum_masks = np.sum(prediction['masks'], axis=2)\n",
    "\n",
    "# get the rows and columns of each pixel\n",
    "rows, cols = np.where(sum_masks >= 2)\n",
    "\n",
    "for i in enumerate(zip(rows, cols)):\n",
    "    print ('{}:{}'.format(i[0], i[1]))"
   ]
  },
  {
   "cell_type": "code",
   "execution_count": 67,
   "metadata": {},
   "outputs": [
    {
     "name": "stdout",
     "output_type": "stream",
     "text": [
      "(16, 512, 512)\n"
     ]
    },
    {
     "data": {
      "image/png": "[encoded data removed]",
      "text/plain": [
       "<matplotlib.figure.Figure at 0x133717ac8>"
      ]
     },
     "metadata": {},
     "output_type": "display_data"
    }
   ],
   "source": [
    "pmasks = np.swapaxes(prediction['masks'], 0, -1)\n",
    "print(pmasks.shape)\n",
    "nrows = int(pmasks.shape[0]/4) + 1\n",
    "fig, axarr = plt.subplots(nrows=nrows, ncols=4, figsize=(15,25))\n",
    "i = 0\n",
    "\n",
    "for row in range(nrows):\n",
    "    for col in range(4):\n",
    "        if i < pmasks.shape[0]:\n",
    "            axarr[row, col].imshow(pmasks[i])\n",
    "        i += 1"
   ]
  },
  {
   "cell_type": "code",
   "execution_count": 49,
   "metadata": {},
   "outputs": [
    {
     "name": "stdout",
     "output_type": "stream",
     "text": [
      "score[7]=0.9817922711372375\n",
      "score[17]=0.7962673306465149\n",
      "score[15]=0.8131082653999329\n"
     ]
    },
    {
     "ename": "IndexError",
     "evalue": "too many indices for array",
     "traceback": [
      "\u001b[0;31m---------------------------------------------------------------------------\u001b[0m",
      "\u001b[0;31mIndexError\u001b[0m                                Traceback (most recent call last)",
      "\u001b[0;32m<ipython-input-49-efbe4fec2c9a>\u001b[0m in \u001b[0;36m<module>\u001b[0;34m()\u001b[0m\n\u001b[1;32m      9\u001b[0m     \u001b[0;32mfor\u001b[0m \u001b[0mcol\u001b[0m \u001b[0;32min\u001b[0m \u001b[0mrange\u001b[0m\u001b[0;34m(\u001b[0m\u001b[0;36m4\u001b[0m\u001b[0;34m)\u001b[0m\u001b[0;34m:\u001b[0m\u001b[0;34m\u001b[0m\u001b[0m\n\u001b[1;32m     10\u001b[0m         \u001b[0;32mif\u001b[0m \u001b[0mi\u001b[0m \u001b[0;34m<\u001b[0m \u001b[0mlen\u001b[0m\u001b[0;34m(\u001b[0m\u001b[0moverlapped_list\u001b[0m\u001b[0;34m)\u001b[0m\u001b[0;34m:\u001b[0m\u001b[0;34m\u001b[0m\u001b[0m\n\u001b[0;32m---> 11\u001b[0;31m             \u001b[0maxarr\u001b[0m\u001b[0;34m[\u001b[0m\u001b[0mrow\u001b[0m\u001b[0;34m,\u001b[0m \u001b[0mcol\u001b[0m\u001b[0;34m]\u001b[0m\u001b[0;34m.\u001b[0m\u001b[0mimshow\u001b[0m\u001b[0;34m(\u001b[0m\u001b[0mpmasks\u001b[0m\u001b[0;34m[\u001b[0m\u001b[0moverlapped_list\u001b[0m\u001b[0;34m[\u001b[0m\u001b[0mi\u001b[0m\u001b[0;34m]\u001b[0m\u001b[0;34m]\u001b[0m\u001b[0;34m)\u001b[0m\u001b[0;34m\u001b[0m\u001b[0m\n\u001b[0m\u001b[1;32m     12\u001b[0m         \u001b[0mi\u001b[0m \u001b[0;34m+=\u001b[0m \u001b[0;36m1\u001b[0m\u001b[0;34m\u001b[0m\u001b[0m\n\u001b[1;32m     13\u001b[0m \u001b[0;34m\u001b[0m\u001b[0m\n",
      "\u001b[0;31mIndexError\u001b[0m: too many indices for array"
     ],
     "output_type": "error"
    },
    {
     "data": {
      "image/png": "[encoded data removed]",
      "text/plain": [
       "<matplotlib.figure.Figure at 0x124c249e8>"
      ]
     },
     "metadata": {},
     "output_type": "display_data"
    }
   ],
   "source": [
    "for i in overlapped_list:\n",
    "    print('score[{}]={}'.format(i, prediction['scores'][i]))\n",
    "\n",
    "nrows = int(len(overlapped_list)/4) + 1\n",
    "fig, axarr = plt.subplots(nrows=nrows, ncols=4, figsize=(15,15))\n",
    "\n",
    "i = 0\n",
    "for row in range(nrows):\n",
    "    for col in range(4):\n",
    "        if i < len(overlapped_list):\n",
    "            axarr[row, col].imshow(pmasks[overlapped_list[i]])\n",
    "        i += 1\n",
    "\n",
    "    \n",
    "#img = np.zeros((512,512,3), dtype=np.uint8)\n",
    "#img[:,:,0] = pmasks[7]*255\n",
    "#img[:,:,1] = pmasks[15]*255\n",
    "#img[:,:,2] = pmasks[17]*255\n",
    "#plt.imshow(img)\n"
   ]
  },
  {
   "cell_type": "code",
   "execution_count": 57,
   "metadata": {},
   "outputs": [
    {
     "data": {
      "text/plain": [
       "<matplotlib.image.AxesImage at 0x1339a1e10>"
      ]
     },
     "execution_count": 57,
     "metadata": {},
     "output_type": "execute_result"
    },
    {
     "data": {
      "image/png": "[encoded data removed]",
      "text/plain": [
       "<matplotlib.figure.Figure at 0x133983470>"
      ]
     },
     "metadata": {},
     "output_type": "display_data"
    }
   ],
   "source": [
    "img = np.zeros((512,512,3), dtype=np.uint8)\n",
    "img[:,:,0] = pmasks[7]*255\n",
    "img[:,:,1] = pmasks[15]*255\n",
    "img[:,:,2] = pmasks[17]*0\n",
    "plt.imshow(img)\n"
   ]
  },
  {
   "cell_type": "code",
   "execution_count": 50,
   "metadata": {},
   "outputs": [],
   "source": [
    "revised_masks = dsbhelper.eliminate_overlaps(prediction['masks'], prediction['rois'])"
   ]
  },
  {
   "cell_type": "code",
   "execution_count": 52,
   "metadata": {},
   "outputs": [
    {
     "data": {
      "text/plain": [
       "<matplotlib.image.AxesImage at 0x1278a3d30>"
      ]
     },
     "execution_count": 52,
     "metadata": {},
     "output_type": "execute_result"
    },
    {
     "data": {
      "image/png": "[encoded data removed]",
      "text/plain": [
       "<matplotlib.figure.Figure at 0x13469f160>"
      ]
     },
     "metadata": {},
     "output_type": "display_data"
    }
   ],
   "source": [
    "revised_masks = np.swapaxes(revised_masks, 0, -1)\n",
    "img2 = np.zeros((512,512,3), dtype=np.uint8)\n",
    "img2[:,:,0] = revised_masks[7]*255\n",
    "img2[:,:,1] = revised_masks[15]*255\n",
    "img2[:,:,2] = revised_masks[17]*255\n",
    "plt.imshow(img2)"
   ]
  },
  {
   "cell_type": "code",
   "execution_count": 53,
   "metadata": {},
   "outputs": [
    {
     "name": "stdout",
     "output_type": "stream",
     "text": [
      "(25, 512, 512)\n"
     ]
    },
    {
     "data": {
      "image/png": "[encoded data removed]",
      "text/plain": [
       "<matplotlib.figure.Figure at 0x134615550>"
      ]
     },
     "metadata": {},
     "output_type": "display_data"
    }
   ],
   "source": [
    "masks = np.swapaxes(masks, 0, -1)\n",
    "print (masks.shape)\n",
    "fig, axarr = plt.subplots(nrows=5, ncols=5, figsize=(15,15))\n",
    "i = 0\n",
    "for row in range(5):\n",
    "    for col in range(4):\n",
    "        axarr[row, col].imshow(masks[i])\n",
    "        i += 1"
   ]
  },
  {
   "cell_type": "code",
   "execution_count": null,
   "metadata": {},
   "outputs": [],
   "source": [
    "img3 = np.zeros((512,512,3), dtype=np.uint8)\n",
    "img3[:,:,0] = revised_masks[7]*255\n",
    "img3[:,:,1] = revised_masks[15]*255\n",
    "img3[:,:,2] = masks[9]*255"
   ]
  },
  {
   "cell_type": "code",
   "execution_count": null,
   "metadata": {},
   "outputs": [],
   "source": [
    "plt.imshow(img3)"
   ]
  },
  {
   "cell_type": "code",
   "execution_count": null,
   "metadata": {},
   "outputs": [],
   "source": [
    "img4 = np.zeros((512,512,3), dtype=np.uint8)\n",
    "img4[:,:,0] = revised_masks[7]*255\n",
    "img4[:,:,1] = revised_masks[15]*0\n",
    "img4[:,:,2] = masks[14]*255"
   ]
  },
  {
   "cell_type": "code",
   "execution_count": null,
   "metadata": {},
   "outputs": [],
   "source": [
    "plt.imshow(img4)"
   ]
  },
  {
   "cell_type": "code",
   "execution_count": null,
   "metadata": {},
   "outputs": [],
   "source": []
  }
 ],
 "metadata": {
  "kernelspec": {
   "display_name": "Python 3",
   "language": "python",
   "name": "python3"
  },
  "language_info": {
   "codemirror_mode": {
    "name": "ipython",
    "version": 3
   },
   "file_extension": ".py",
   "mimetype": "text/x-python",
   "name": "python",
   "nbconvert_exporter": "python",
   "pygments_lexer": "ipython3",
   "version": "3.5.3"
  }
 },
 "nbformat": 4,
 "nbformat_minor": 2
}
