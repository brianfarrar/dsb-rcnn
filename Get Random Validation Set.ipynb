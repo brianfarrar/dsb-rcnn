{
 "cells": [
  {
   "cell_type": "code",
   "execution_count": 9,
   "metadata": {},
   "outputs": [],
   "source": [
    "import random\n",
    "from tensorflow.python.lib.io import file_io\n",
    "\n",
    "\n"
   ]
  },
  {
   "cell_type": "code",
   "execution_count": 10,
   "metadata": {},
   "outputs": [],
   "source": [
    "# -----------------------------------------\n",
    "# get a list of specimen ids\n",
    "# -----------------------------------------\n",
    "def get_specimen_ids(path):\n",
    "\n",
    "    specimen_id_list = file_io.list_directory(path)\n",
    "\n",
    "    if path.startswith('gs://'):\n",
    "        temp_list = []\n",
    "\n",
    "        for specimen_id in specimen_id_list:\n",
    "            temp_list.append(specimen_id.strip('/'))\n",
    "\n",
    "        specimen_id_list = temp_list\n",
    "\n",
    "    return specimen_id_list\n"
   ]
  },
  {
   "cell_type": "code",
   "execution_count": 11,
   "metadata": {},
   "outputs": [],
   "source": [
    "specimen_ids = get_specimen_ids(\"gs://mwpdsb/data/stage1_train\")"
   ]
  },
  {
   "cell_type": "code",
   "execution_count": 12,
   "metadata": {},
   "outputs": [
    {
     "name": "stdout",
     "output_type": "stream",
     "text": [
      "00071198d059ba7f5914a526d124d28e6d010c92466da21d4a04cd5413362552\n",
      "003cee89357d9fe13516167fd67b609a164651b21934585648c740d2c3d86dc1\n",
      "00ae65c1c6631ae6f2be1a449902976e6eb8483bf6b0740d00530220832c6d3e\n",
      "0121d6759c5adb290c8e828fc882f37dfaf3663ec885c663859948c154a443ed\n",
      "01d44a26f6680c42ba94c9bc6339228579a95d0e2695b149b7cc0c9592b21baf\n"
     ]
    }
   ],
   "source": [
    "for i in range(5):\n",
    "    print (specimen_ids[i])"
   ]
  },
  {
   "cell_type": "code",
   "execution_count": 13,
   "metadata": {},
   "outputs": [],
   "source": [
    "validation_list = random.sample(specimen_ids, 60)"
   ]
  },
  {
   "cell_type": "code",
   "execution_count": 14,
   "metadata": {},
   "outputs": [
    {
     "name": "stdout",
     "output_type": "stream",
     "text": [
      "['a4c44fc5f5bf213e2be6091ccaed49d8bf039d78f6fbd9c4d7b7428cfcb2eda4', '7b38c9173ebe69b4c6ba7e703c0c27f39305d9b2910f46405993d2ea7a963b80', '8c3ef7aa7ed29b62a65b1c394d2b4a24aa3da25aebfdf3d29dbfc8ad1b08e95a', 'e856511ac1c34d24320eb7c56c05a4a3340d06667b4f5b8e8df615d415c7f650', '1ee4a111f0e0bb9b001121b94ff98ca736fad03797b25285fe33a47046b3e4b0', '15039b3acccc4257a1a442646a89b6e596b5eb4531637e6d8fa1c43203722c99', '4c465a54e329ec7b0f4bc5f6acdfd3192707d6c0fbdf557339485581c5a6b3c1', '673baf65ae5c571d6be452eb41e79ef3fc2eb3fd238e621c6b7621763b429989', 'bff985591dd5d6303018a6e9a3dcfb336771a414ad4605c24ce1c1155fc86a96', '5ddbfba2519484316e4b7ccabfa605e6e6fd96c3d87ac8cdfd2c134571a15311', '1b44d22643830cd4f23c9deadb0bd499fb392fb2cd9526d81547d93077d983df', '08151b19806eebd58e5acec7e138dbfbb1761f41a1ab9620466584ecc7d5fada', '94519eb45cbe1573252623b7ea06a8b43c19c930f5c9b685edb639d0db719ab0', '20b20ab049372d184c705acebe7af026d3580f5fd5a72ed796e3622e1685af2f', '0402a81e75262469925ea893b6706183832e85324f7b1e08e634129f5d522cdd', '98c5ead89cd066637efd5c93a6edc55c85908eb66807471f0d246d5457341f9c', '449a9c32e53a37c8a86e01c199155c8da3958b631088e10f6fe43c2119defe51', 'd2815f2f616d92be35c7e8dcfe592deec88516aef9ffc9b21257f52b7d6d0354', '4b274461c6d001a7a9aeaf5952b40ac4934d1be96b9c176edfd628a8f77e6df2', '193ffaa5272d5c421ae02130a64d98ad120ec70e4ed97a72cdcd4801ce93b066', '7f34dfccd1bc2e2466ee3d6f74ff05821a0e5404e9cf2c9568da26b59f7afda5', 'e23e11414ee645b51081fb202d38b793f0c8ef2940f8228ded384899d21b02c2', 'f7e5dcfc9c93183c668c5a4ab028d5faad54fb54298711f2caae0508aa978300', '2227fd9b01d67c2bcdb407d3205214e6dfeff9fd0725828e3b3651959942ff4a', 'fc345dac2205deb169bd70197f07f053bada80b61ffa69fdfb490758323ead69', 'cbca32daaae36a872a11da4eaff65d1068ff3f154eedc9d3fc0c214a4e5d32bd', '8a65e41c630d85c0004ce1772ff66fbc87aca34cb165f695255b39343fcfc832', 'a3a65623e079af7988b0c1cf1e54041003c6d730c91ecf200b71c47b93a67ed6', 'c6de542205b891eed5c40e6d8ae3d03a6ca39b26dc445b4dbc64340d4d64dd2d', '33618678c167c5e07be02c49d0c43bcd90493ba5d83110a631409a4d3ccc1e51', '1c2f9e121fc207efff79d46390df1a740566b683ff56a96d8cabe830a398dd2e', 'c3bec1066aae20f48b82975e7e8b684cd67635a8baf211e4d9e3e13bc54c5d06', '08ae2741df2f5ac815c0f272a8c532b5167ee853be9b939b9b8b7fa93560868a', '3d0ca3498d97edebd28dbc7035eced40baa4af199af09cbb7251792accaa69fe', '72e8c49dea44787114fd191f9e97e260f961c6e7ae4715bc95cc91db8d91a4e3', '9fb32aba1c2fd53273dca9abefac944ba747f578da82dfaa1249f332a2324944', '6ab24e7e1f6c9fdd371c5edae1bbb20abeeb976811f8ab2375880b4483860f4d', 'df9a4212ecb67bb4e58eba62f293b91f9d6f1dde73e38fa891c75661d419fc97', '72b18a405555ad491721e29454e5cd325055ce81a9e78524b56f2c058a4d2327', 'e5a7b8a9924b26b3abf039255a8a3bb00258f4966f68ff3349560b4350af9367', '4ff152d76db095f75c664dd48e41e8c9953fd0e784535883916383165e28a08e', '8d9b4205ddb10fa49a2973b4f3a2dc6923407ae015081e1a52c4b4c2fe8faa53', '94a5a37c3b1153d5c5aef2eca53c960b9f21f2ef1758209d7ec502ec324b03a3', 'e4ae1ceddb279bac30273ca7ac480025ce2e7287328f5272234b5bbca6d13135', '1b6044e4858a9b7cee9b0028d8e54fbc8fb72e6c4424ab5b9f3859bfc72b33c5', '23830d0e51245fc0c9e410efa4c17d2a7d83a0104a3777130119ab892de47a4e', 'f487cc82271cf84b4414552aa8b0a9d82d902451ebe8e8bc639d4121c1672ff7', 'ff3407842ada5bc18be79ae453e5bdaa1b68afc842fc22fa618ac6e6599d0bb3', '9bb6e39d5f4415bc7554842ee5d1280403a602f2ba56122b87f453a62d37c06e', 'df5cdd0ebe1bdf8dc870bc294b8f08961e083bc7f9be69e268454aa9091808b9', 'ce9e1a58b58940039ae841466198b72ea21cc90584039a9294b47f5aef17ddfa', '8fdc34509a0c3721f7b5e235c8a93e1f553343aa17ad103a1e89e3509a3e1570', '9520aff4efe87bd8f3901652fa2dde9b4bc9c679325966145ce00c1ca33f35de', 'e216ec5063d3562b793e434c491051bd8867f6c2e571e41137c7c560cc0e6a03', 'dae976f161fe42dc58dee87d4bf2eb9f65736597cab0114138641b2a39a5c42b', '4ae4f936a9ade472764dad80f60f7168e4be067aa66ce9d06d60ebe34951dca4', '12aeefb1b522b283819b12e4cfaf6b13c1264c0aadac3412b4edd2ace304cb40', '709e094e39629a9ca21e187f007b331074694e443db40289447c1111f7e267e7', '08275a5b1c2dfcd739e8c4888a5ee2d29f83eccfa75185404ced1dc0866ea992', 'ce88df7356d9d4a8d5944a93768f4c4b593de2d35616f7448c2b37b9fd60dd1f']\n"
     ]
    }
   ],
   "source": [
    "print (validation_list)"
   ]
  },
  {
   "cell_type": "code",
   "execution_count": null,
   "metadata": {},
   "outputs": [],
   "source": []
  }
 ],
 "metadata": {
  "kernelspec": {
   "display_name": "Python 3",
   "language": "python",
   "name": "python3"
  },
  "language_info": {
   "codemirror_mode": {
    "name": "ipython",
    "version": 3
   },
   "file_extension": ".py",
   "mimetype": "text/x-python",
   "name": "python",
   "nbconvert_exporter": "python",
   "pygments_lexer": "ipython3",
   "version": "3.5.3"
  }
 },
 "nbformat": 4,
 "nbformat_minor": 2
}
